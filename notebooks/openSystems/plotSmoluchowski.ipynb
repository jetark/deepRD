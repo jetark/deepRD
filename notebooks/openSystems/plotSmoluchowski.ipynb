{
 "cells": [
  {
   "cell_type": "code",
   "execution_count": null,
   "id": "342a8684",
   "metadata": {},
   "outputs": [],
   "source": [
    "import os\n",
    "import numpy as np\n",
    "import matplotlib.pyplot as plt\n",
    "from scipy import stats\n",
    "import deepRD\n",
    "import deepRD.tools.analysisTools as analysisTools"
   ]
  },
  {
   "cell_type": "code",
   "execution_count": null,
   "id": "3f1e9810",
   "metadata": {},
   "outputs": [],
   "source": [
    "def read_numpy_arrays_from_file(file_path):\n",
    "    arrays = []\n",
    "    with open(file_path, 'r') as file:\n",
    "        contents = file.read()\n",
    "\n",
    "    # Split the file content based on square brackets [ ]\n",
    "    array_strings = contents.split('[')[1:]\n",
    "\n",
    "    # Convert each array string back to a numpy array and store it\n",
    "    for array_string in array_strings:\n",
    "        array = np.fromstring(array_string.replace(']', ''), sep=' ')\n",
    "        arrays.append(array)\n",
    "\n",
    "    return arrays"
   ]
  },
  {
   "cell_type": "code",
   "execution_count": null,
   "id": "7a7fe507",
   "metadata": {},
   "outputs": [],
   "source": [
    "# Load parameters from parameters file\n",
    "simID = '0005'\n",
    "localDataDirectory = os.environ.get('DATA') + 'openSystems/classicSmoluchowski_' + simID\n",
    "parameterDictionary = analysisTools.readParameters(localDataDirectory + \"/parameters_\" + simID)\n",
    "# Parameters for loading continuous trajectories from files (from original simulation)\n",
    "numSimulations = parameterDictionary['numSimulations']\n",
    "D = parameterDictionary['D'] \n",
    "dt = parameterDictionary['dt']\n",
    "stride = parameterDictionary['stride']\n",
    "tfinal = parameterDictionary['tfinal']\n",
    "kappa = parameterDictionary['kappa'] \n",
    "sigma = parameterDictionary['sigma']\n",
    "R = parameterDictionary['R']\n",
    "cR = parameterDictionary['cR']\n",
    "equilibrationSteps = parameterDictionary['equilibrationSteps']"
   ]
  },
  {
   "cell_type": "code",
   "execution_count": null,
   "id": "ef071261",
   "metadata": {},
   "outputs": [],
   "source": [
    "# Read files\n",
    "file_path = localDataDirectory + '/classicSmol_nsims' + str(numSimulations) + '.xyz'\n",
    "distancesArrays = read_numpy_arrays_from_file(file_path)"
   ]
  },
  {
   "cell_type": "code",
   "execution_count": null,
   "id": "b77f7a2f",
   "metadata": {},
   "outputs": [],
   "source": [
    "print(len(distancesArrays),cR)"
   ]
  },
  {
   "cell_type": "code",
   "execution_count": null,
   "id": "84afff22",
   "metadata": {},
   "outputs": [],
   "source": [
    "# Calculate average concentration with bootstrapping stdDevs\n",
    "nbins = 30\n",
    "#numSimulations = 1500\n",
    "# Calculate values of middle points of histogram\n",
    "hist, bins = np.histogram(distancesArrays[0], bins=nbins, range=(sigma,R))\n",
    "rvals = np.zeros(len(bins)-1)\n",
    "rvolumes = np.zeros(len(bins)-1)\n",
    "binsize = bins[1]-bins[0]\n",
    "for i in range(len(bins)-1):\n",
    "    rvals[i] = (bins[i+1] + bins[i])/2.0\n",
    "    rvolumes[i] = 4*np.pi*(bins[i+1]**3 - bins[i]**3)/3.0 # Approx alternative: 4*np.pi* rvals[i]**2*(bins[i+1]-bins[i])\n",
    "# Calculate average concentration\n",
    "concentrationHistogram = np.zeros(len(bins)-1)\n",
    "stdDevs = np.zeros(len(bins)-1)\n",
    "concHist = [None]*numSimulations\n",
    "for i in range(numSimulations):\n",
    "    hist, bins = np.histogram(distancesArrays[i], bins=nbins, range=(sigma,R))\n",
    "    concHist[i] = hist/rvolumes\n",
    "for j in range(len(concentrationHistogram)):\n",
    "    concentrationHistogram[j] = np.mean(np.array(concHist)[:,j])\n",
    "    stdDevs[j] = np.std(np.array(concHist)[:,j])"
   ]
  },
  {
   "cell_type": "code",
   "execution_count": null,
   "id": "a39e50fe",
   "metadata": {},
   "outputs": [],
   "source": [
    "fig, ax = plt.subplots()\n",
    "bw=0.1\n",
    "fsize = 15\n",
    "# Calculate analytical solution\n",
    "kappa = 10\n",
    "#sigma = 1.0 \n",
    "#R = 10.0\n",
    "#cR = 1.0\n",
    "#rvals = np.arange(sigma,R,0.1)\n",
    "kS = 4*np.pi*sigma*D\n",
    "analyticCKRinf = cR*(1 - kappa*sigma/(kS + kappa)*(1/rvals))\n",
    "analyticCK = cR*(1 - kappa*sigma/(kS + kappa*(1-sigma/R))*(1.0/rvals - 1.0/R))\n",
    "\n",
    "\n",
    "ax.plot(rvals, analyticCK,'-k', linewidth =1, label='benchmark')\n",
    "ax.plot(rvals, concentrationHistogram,'--b', linewidth = 2, label='simulation (n='+ str(numSimulations)+')')\n",
    "ax.fill_between(rvals, concentrationHistogram-stdDevs, concentrationHistogram+stdDevs, alpha=0.1, \n",
    "                edgecolor='#1B2ACC', facecolor='#089FFF', linewidth=2, antialiased=True)\n",
    "#ax.plot(rvals, analyticCKRinf,'-r', lw =3, label='benchmark Rinf')\n",
    "\n",
    "ax.set_xlim((sigma+binsize, R-binsize))\n",
    "ax.set_ylim((0, None))\n",
    "ax.set_xlabel('radial distance',fontsize=fsize)\n",
    "ax.set_ylabel('Concentration',fontsize=fsize)\n",
    "ax.tick_params(axis='x', labelsize=fsize)\n",
    "ax.tick_params(axis='y', labelsize=fsize)\n",
    "\n",
    "\n",
    "\n",
    "ax.legend(bbox_to_anchor=(0.6, 0., 0.4, 0.3), framealpha=1.0,fontsize=fsize)\n",
    "\n",
    "plt.tight_layout()"
   ]
  },
  {
   "cell_type": "markdown",
   "id": "950e055d",
   "metadata": {},
   "source": [
    "## Plots for paper"
   ]
  },
  {
   "cell_type": "code",
   "execution_count": null,
   "id": "2a0394b0",
   "metadata": {},
   "outputs": [],
   "source": [
    "# Calculate average concentration\n",
    "nSimsList = [100,500,5000]\n",
    "concentrationHistograms=[None]*len(nSimsList)\n",
    "stdDevs = [None]*len(nSimsList)\n",
    "for k, nsims in enumerate(nSimsList):\n",
    "    concentrationHistograms[k] = np.zeros(nbins)\n",
    "    stdDevs[k] = np.zeros(nbins)\n",
    "    concHist = [None]*nsims\n",
    "    for i in range(nsims):\n",
    "        hist, bins = np.histogram(distancesArrays[i], bins=nbins, range=(sigma,R))\n",
    "        concHist[i] = hist/rvolumes\n",
    "    for j in range(len(concentrationHistograms[k])):\n",
    "        concentrationHistograms[k][j] = np.mean(np.array(concHist)[:,j])\n",
    "        stdDevs[k][j] = np.std(np.array(concHist)[:,j])"
   ]
  },
  {
   "cell_type": "code",
   "execution_count": null,
   "id": "c0ad5609",
   "metadata": {},
   "outputs": [],
   "source": [
    "fig, ax = plt.subplots(1,3, figsize=(14,4), sharey=True, squeeze= True)\n",
    "bw=0.1\n",
    "fsize = 15\n",
    "\n",
    "#Analytical solution\n",
    "kS = 4*np.pi*sigma*D\n",
    "kappa=8.5\n",
    "analyticCKRinf = cR*(1 - kappa*sigma/(kS + kappa)*(1/rvals))\n",
    "analyticCK = cR*(1 - kappa*sigma/(kS + kappa*(1-sigma/R))*(1.0/rvals - 1.0/R))\n",
    "\n",
    "for k, nsims in enumerate(nSimsList):\n",
    "    ax[k].plot(rvals, analyticCK,'-k', linewidth =1, label='benchmark')\n",
    "    ax[k].plot(rvals, concentrationHistograms[k],'--b', linewidth = 2, label='simulation (n='+ str(nsims) + ')')\n",
    "    ax[k].fill_between(rvals, concentrationHistograms[k]-stdDevs[k], concentrationHistograms[k]+stdDevs[k], alpha=0.1, \n",
    "                    edgecolor='#1B2ACC', facecolor='#089FFF', linewidth=2, antialiased=True)\n",
    "    #ax.plot(rvals, analyticCKRinf,'-r', lw =3, label='benchmark Rinf')\n",
    "\n",
    "    ax[k].set_xlim((sigma+binsize, R-binsize))\n",
    "    ax[k].set_ylim((0, 1.25))\n",
    "    ax[k].set_ylim((0, 0.75))\n",
    "    ax[k].set_xlabel('r',fontsize=fsize)\n",
    "    ax[k].tick_params(axis='x', labelsize=fsize)\n",
    "    ax[k].tick_params(axis='y', labelsize=fsize)\n",
    "    ax[k].legend(bbox_to_anchor=(0.6, 0., 0.4, 0.3), framealpha=1.0,fontsize=fsize)\n",
    "\n",
    "\n",
    "ax[0].set_ylabel('Concentration',fontsize=fsize)\n",
    "\n",
    "plt.tight_layout()\n",
    "plt.savefig('Smoluchowski_plots_cR=' + str(cR) + '.pdf')"
   ]
  },
  {
   "cell_type": "markdown",
   "id": "b2c4efd7",
   "metadata": {},
   "source": [
    "## Old plots"
   ]
  },
  {
   "cell_type": "code",
   "execution_count": null,
   "id": "3028e1d7",
   "metadata": {},
   "outputs": [],
   "source": [
    "fig, ax = plt.subplots()\n",
    "bw=0.1\n",
    "concDensity = stats.kde.gaussian_kde(distancesArrays[0],bw)\n",
    "\n",
    "distance = np.arange(sigma, R, 0.02)\n",
    "#ax.plot(distance, concDensity(distance), '-k') # label='benchmark')\n",
    "ax.plot(distance, concDensity(distance)/(4*np.pi*distance**2),'--k') # label='benchmark')\n",
    "\n",
    "ax.set_xlim((sigma, R))\n",
    "ax.set_ylim((0, None))\n",
    "ax.set_xlabel('radial distance')\n",
    "ax.set_ylabel('Concentration')\n",
    "\n",
    "#ax.legend(bbox_to_anchor=(0.6, 0., 0.5, 1.0), framealpha=1.0)\n",
    "\n",
    "plt.tight_layout()"
   ]
  },
  {
   "cell_type": "code",
   "execution_count": null,
   "id": "ee77a21d",
   "metadata": {},
   "outputs": [],
   "source": []
  }
 ],
 "metadata": {
  "kernelspec": {
   "display_name": "Python 3 (ipykernel)",
   "language": "python",
   "name": "python3"
  },
  "language_info": {
   "codemirror_mode": {
    "name": "ipython",
    "version": 3
   },
   "file_extension": ".py",
   "mimetype": "text/x-python",
   "name": "python",
   "nbconvert_exporter": "python",
   "pygments_lexer": "ipython3",
   "version": "3.10.2"
  }
 },
 "nbformat": 4,
 "nbformat_minor": 5
}
