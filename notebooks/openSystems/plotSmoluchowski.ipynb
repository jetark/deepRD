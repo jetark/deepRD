{
 "cells": [
  {
   "cell_type": "code",
   "execution_count": null,
   "id": "342a8684",
   "metadata": {},
   "outputs": [],
   "source": [
    "import os\n",
    "import numpy as np\n",
    "import matplotlib.pyplot as plt\n",
    "from scipy import stats\n",
    "import deepRD\n",
    "import deepRD.tools.analysisTools as analysisTools"
   ]
  },
  {
   "cell_type": "code",
   "execution_count": null,
   "id": "3f1e9810",
   "metadata": {},
   "outputs": [],
   "source": [
    "def read_numpy_arrays_from_file(file_path):\n",
    "    arrays = []\n",
    "    with open(file_path, 'r') as file:\n",
    "        contents = file.read()\n",
    "\n",
    "    # Split the file content based on square brackets [ ]\n",
    "    array_strings = contents.split('[')[1:]\n",
    "\n",
    "    # Convert each array string back to a numpy array and store it\n",
    "    for array_string in array_strings:\n",
    "        array = np.fromstring(array_string.replace(']', ''), sep=' ')\n",
    "        arrays.append(array)\n",
    "\n",
    "    return arrays"
   ]
  },
  {
   "cell_type": "code",
   "execution_count": null,
   "id": "7a7fe507",
   "metadata": {},
   "outputs": [],
   "source": [
    "# Load parameters from parameters file\n",
    "simID = '0001'\n",
    "localDataDirectory = os.environ.get('DATA') + 'openSystems/classicSmoluchowski_' + simID\n",
    "parameterDictionary = analysisTools.readParameters(localDataDirectory + \"/parameters_\" + simID)\n",
    "# Parameters for loading continuous trajectories from files (from original simulation)\n",
    "numSimulations = parameterDictionary['numSimulations']\n",
    "D = parameterDictionary['D'] \n",
    "dt = parameterDictionary['dt']\n",
    "stride = parameterDictionary['stride']\n",
    "tfinal = parameterDictionary['tfinal']\n",
    "kappa = parameterDictionary['kappa'] \n",
    "sigma = parameterDictionary['sigma']\n",
    "R = parameterDictionary['R']\n",
    "cR = parameterDictionary['cR']\n",
    "equilibrationSteps = parameterDictionary['equilibrationSteps']"
   ]
  },
  {
   "cell_type": "code",
   "execution_count": null,
   "id": "ef071261",
   "metadata": {},
   "outputs": [],
   "source": [
    "# Read files\n",
    "file_path = localDataDirectory + '/classicSmol_nsims' + str(numSimulations) + '.xyz'\n",
    "distancesArrays = read_numpy_arrays_from_file(file_path)"
   ]
  },
  {
   "cell_type": "code",
   "execution_count": null,
   "id": "b77f7a2f",
   "metadata": {},
   "outputs": [],
   "source": [
    "print(len(distancesArrays),cR)"
   ]
  },
  {
   "cell_type": "code",
   "execution_count": null,
   "id": "84afff22",
   "metadata": {},
   "outputs": [],
   "source": [
    "# Calculate average concentration with bootstrapping stdDevs\n",
    "nbins = 30\n",
    "#numSimulations = 1500\n",
    "# Calculate values of middle points of histogram\n",
    "hist, bins = np.histogram(distancesArrays[0], bins=nbins, range=(sigma,R))\n",
    "rvals = np.zeros(len(bins)-1)\n",
    "rvolumes = np.zeros(len(bins)-1)\n",
    "binsize = bins[1]-bins[0]\n",
    "for i in range(len(bins)-1):\n",
    "    rvals[i] = (bins[i+1] + bins[i])/2.0\n",
    "    rvolumes[i] = 4*np.pi*(bins[i+1]**3 - bins[i]**3)/3.0 # Approx alternative: 4*np.pi* rvals[i]**2*(bins[i+1]-bins[i])\n",
    "# Calculate average concentration\n",
    "concentrationHistogram = np.zeros(len(bins)-1)\n",
    "stdDevs = np.zeros(len(bins)-1)\n",
    "concHist = [None]*numSimulations\n",
    "for i in range(numSimulations):\n",
    "    hist, bins = np.histogram(distancesArrays[i], bins=nbins, range=(sigma,R))\n",
    "    concHist[i] = hist/rvolumes\n",
    "for j in range(len(concentrationHistogram)):\n",
    "    concentrationHistogram[j] = np.mean(np.array(concHist)[:,j])\n",
    "    stdDevs[j] = np.std(np.array(concHist)[:,j])"
   ]
  },
  {
   "cell_type": "code",
   "execution_count": null,
   "id": "a39e50fe",
   "metadata": {},
   "outputs": [],
   "source": [
    "fig, ax = plt.subplots()\n",
    "bw=0.1\n",
    "fsize = 15\n",
    "# Calculate analytical solution\n",
    "#kappa = 10\n",
    "#sigma = 1.0 \n",
    "#R = 10.0\n",
    "#cR = 1.0\n",
    "#rvals = np.arange(sigma,R,0.1)\n",
    "kS = 4*np.pi*sigma*D\n",
    "analyticCKRinf = cR*(1 - kappa*sigma/(kS + kappa)*(1/rvals))\n",
    "analyticCK = cR*(1 - kappa*sigma/(kS + kappa*(1-sigma/R))*(1.0/rvals - 1.0/R))\n",
    "\n",
    "\n",
    "ax.plot(rvals, analyticCK,'-k', linewidth =1, label='benchmark')\n",
    "ax.plot(rvals, concentrationHistogram,'--b', linewidth = 2, label='simulation (n='+ str(numSimulations)+')')\n",
    "ax.fill_between(rvals, concentrationHistogram-stdDevs, concentrationHistogram+stdDevs, alpha=0.1, \n",
    "                edgecolor='#1B2ACC', facecolor='#089FFF', linewidth=2, antialiased=True)\n",
    "#ax.plot(rvals, analyticCKRinf,'-r', lw =3, label='benchmark Rinf')\n",
    "\n",
    "ax.set_xlim((sigma+binsize, R-binsize))\n",
    "ax.set_ylim((0, None))\n",
    "ax.set_xlabel('radial distance',fontsize=fsize)\n",
    "ax.set_ylabel('Concentration',fontsize=fsize)\n",
    "ax.tick_params(axis='x', labelsize=fsize)\n",
    "ax.tick_params(axis='y', labelsize=fsize)\n",
    "\n",
    "\n",
    "\n",
    "ax.legend(bbox_to_anchor=(0.6, 0., 0.4, 0.3), framealpha=1.0,fontsize=fsize)\n",
    "\n",
    "plt.tight_layout()"
   ]
  },
  {
   "cell_type": "markdown",
   "id": "950e055d",
   "metadata": {},
   "source": [
    "## Plots for paper"
   ]
  },
  {
   "cell_type": "code",
   "execution_count": null,
   "id": "2a0394b0",
   "metadata": {},
   "outputs": [],
   "source": [
    "# Calculate average concentration\n",
    "nSimsList = [100,500,1000]\n",
    "concentrationHistograms=[None]*len(nSimsList)\n",
    "stdDevs = [None]*len(nSimsList)\n",
    "for k, nsims in enumerate(nSimsList):\n",
    "    concentrationHistograms[k] = np.zeros(nbins)\n",
    "    stdDevs[k] = np.zeros(nbins)\n",
    "    concHist = [None]*nsims\n",
    "    for i in range(nsims):\n",
    "        hist, bins = np.histogram(distancesArrays[i], bins=nbins, range=(sigma,R))\n",
    "        concHist[i] = hist/rvolumes\n",
    "    for j in range(len(concentrationHistograms[k])):\n",
    "        concentrationHistograms[k][j] = np.mean(np.array(concHist)[:,j])\n",
    "        stdDevs[k][j] = np.std(np.array(concHist)[:,j])"
   ]
  },
  {
   "cell_type": "code",
   "execution_count": null,
   "id": "c0ad5609",
   "metadata": {},
   "outputs": [],
   "source": [
    "fig, ax = plt.subplots(1,3, figsize=(14,4), sharey=True, squeeze= True)\n",
    "bw=0.1\n",
    "fsize = 15\n",
    "\n",
    "#Analytical solution\n",
    "kS = 4*np.pi*sigma*D\n",
    "analyticCKRinf = cR*(1 - kappa*sigma/(kS + kappa)*(1/rvals))\n",
    "analyticCK = cR*(1 - kappa*sigma/(kS + kappa*(1-sigma/R))*(1.0/rvals - 1.0/R))\n",
    "\n",
    "for k, nsims in enumerate(nSimsList):\n",
    "    ax[k].plot(rvals, analyticCK,'-k', linewidth =1, label='benchmark')\n",
    "    ax[k].plot(rvals, concentrationHistograms[k],'--b', linewidth = 2, label='simulation (n='+ str(nsims) + ')')\n",
    "    ax[k].fill_between(rvals, concentrationHistograms[k]-stdDevs[k], concentrationHistograms[k]+stdDevs[k], alpha=0.1, \n",
    "                    edgecolor='#1B2ACC', facecolor='#089FFF', linewidth=2, antialiased=True)\n",
    "    #ax.plot(rvals, analyticCKRinf,'-r', lw =3, label='benchmark Rinf')\n",
    "\n",
    "    ax[k].set_xlim((sigma+binsize, R-binsize))\n",
    "    ax[k].set_ylim((0, 1.25))\n",
    "    #ax[k].set_ylim((0, 0.75))\n",
    "    ax[k].set_xlabel('r',fontsize=fsize)\n",
    "    ax[k].tick_params(axis='x', labelsize=fsize)\n",
    "    ax[k].tick_params(axis='y', labelsize=fsize)\n",
    "    ax[k].legend(bbox_to_anchor=(0.6, 0., 0.4, 0.3), framealpha=1.0,fontsize=fsize)\n",
    "\n",
    "\n",
    "ax[0].set_ylabel('Concentration',fontsize=fsize)\n",
    "\n",
    "plt.tight_layout()\n",
    "plt.savefig('Smoluchowski_plots_cR=' + str(cR) + '.pdf')"
   ]
  },
  {
   "cell_type": "markdown",
   "id": "030726c4",
   "metadata": {},
   "source": [
    "### Error plots for partially absorbing boundary"
   ]
  },
  {
   "cell_type": "code",
   "execution_count": null,
   "id": "ec9718f8",
   "metadata": {},
   "outputs": [],
   "source": [
    "# Load files\n",
    "#numdts = 6\n",
    "#simIDs = ['0012','0013','0014','0016','0017','0018','0022','0023','0024','0026','0027','0028'] \n",
    "numdts = 4\n",
    "simIDs = ['0011','0012','0013','0014','0021','0022','0023','0024'] \n",
    "numSimulations = 1000\n",
    "distancesArraysList = [None]*len(simIDs)\n",
    "dtList = [None]*len(simIDs)\n",
    "for i, ID in enumerate(simIDs):\n",
    "    localDataDirectory = os.environ.get('DATA') + 'openSystems/classicSmoluchowski_' + ID\n",
    "    parameterDictionary = analysisTools.readParameters(localDataDirectory + \"/parameters_\" + ID)\n",
    "    file_path = localDataDirectory + '/classicSmol_nsims' + str(numSimulations) + '.xyz'\n",
    "    distancesArraysList[i] = read_numpy_arrays_from_file(file_path)\n",
    "    dtList[i] = parameterDictionary['dt']\n",
    "    if i==0: # Assumes all other parameters are the same for all simIDs\n",
    "        # Parameters for loading continuous trajectories from files (from original simulation)\n",
    "        numSimulations = parameterDictionary['numSimulations']\n",
    "        D = parameterDictionary['D'] \n",
    "        stride = parameterDictionary['stride']\n",
    "        tfinal = parameterDictionary['tfinal']\n",
    "        kappa = parameterDictionary['kappa'] \n",
    "        sigma = parameterDictionary['sigma']\n",
    "        R = parameterDictionary['R']\n",
    "        cR = parameterDictionary['cR']\n",
    "        equilibrationSteps = parameterDictionary['equilibrationSteps']"
   ]
  },
  {
   "cell_type": "code",
   "execution_count": null,
   "id": "d6e63a79",
   "metadata": {},
   "outputs": [],
   "source": [
    "numSimulations = 440"
   ]
  },
  {
   "cell_type": "code",
   "execution_count": null,
   "id": "573d6a24",
   "metadata": {},
   "outputs": [],
   "source": [
    "# Choose histogram Calculate values of middle points of histogram\n",
    "nbins = 40\n",
    "hist, bins = np.histogram(distancesArraysList[0][0], bins=nbins, range=(sigma,R))\n",
    "rvals = np.zeros(len(bins)-1)\n",
    "rvolumes = np.zeros(len(bins)-1)\n",
    "binsize = bins[1]-bins[0]\n",
    "for i in range(len(bins)-1):\n",
    "    rvals[i] = (bins[i+1] + bins[i])/2.0\n",
    "    rvolumes[i] = 4*np.pi*(bins[i+1]**3 - bins[i]**3)/3.0 # Approx alternative: 4*np.pi* rvals[i]**2*(bins[i+1]-bins[i])"
   ]
  },
  {
   "cell_type": "code",
   "execution_count": null,
   "id": "b5a7565a",
   "metadata": {},
   "outputs": [],
   "source": [
    "# Calculate average concentration\n",
    "concentrationHistograms=[None]*len(simIDs)\n",
    "stdDevs = [None]*len(simIDs)\n",
    "for k, ID in enumerate(simIDs):\n",
    "    concentrationHistograms[k] = np.zeros(nbins)\n",
    "    stdDevs[k] = np.zeros(nbins)\n",
    "    concHist = [None]*numSimulations\n",
    "    for i in range(numSimulations):\n",
    "        hist, bins = np.histogram(distancesArraysList[k][i], bins=nbins, range=(sigma,R))\n",
    "        concHist[i] = hist/rvolumes\n",
    "    for j in range(len(concentrationHistograms[k])):\n",
    "        concentrationHistograms[k][j] = np.mean(np.array(concHist)[:,j])\n",
    "        stdDevs[k][j] = np.std(np.array(concHist)[:,j])"
   ]
  },
  {
   "cell_type": "code",
   "execution_count": null,
   "id": "102b8458",
   "metadata": {},
   "outputs": [],
   "source": [
    "# Extract and plot last values at partially absorbing boundary\n",
    "#analyticVal = analyticCK[0]\n",
    "analyticVal = 0.5*(analyticCK[0]+analyticCK[1])\n",
    "errorList = [None]*len(simIDs)\n",
    "for k, ID in enumerate(simIDs):\n",
    "    #numericalVal = concentrationHistograms[k][0]\n",
    "    numericalVal = 0.5*(concentrationHistograms[k][0] + concentrationHistograms[k][1])\n",
    "    errorList[k] = np.abs(numericalVal - analyticVal)\n",
    "\n",
    "fig, ax = plt.subplots(1,1, figsize=(5,4))    \n",
    "#ax.plot(dtList[0:numdts],dtList[0:numdts], 'k--')\n",
    "ax.plot(dtList[0:numdts], errorList[0:numdts], 'kd',label=\"First order\")\n",
    "ax.plot(dtList[numdts:], errorList[numdts:], 'kx',label=\"Second order\")\n",
    "ax.set_xlabel(r'time step ($\\delta t$)',fontsize=fsize)\n",
    "ax.set_ylabel(r'Error at $r=\\sigma$',fontsize=fsize)\n",
    "ax.set_xscale('log')\n",
    "ax.set_xlim([0.0005,0.1])\n",
    "ax.set_yscale('log')\n",
    "ax.tick_params(axis='x', labelsize=fsize)\n",
    "ax.tick_params(axis='y', labelsize=fsize)\n",
    "ax.legend(framealpha=1.0,fontsize=fsize)\n",
    "ax.grid(linestyle = '--',alpha=0.3)"
   ]
  },
  {
   "cell_type": "markdown",
   "id": "ae2b0863",
   "metadata": {},
   "source": [
    "### Error plots for reservoir"
   ]
  },
  {
   "cell_type": "code",
   "execution_count": null,
   "id": "29464797",
   "metadata": {},
   "outputs": [],
   "source": [
    "# Load files\n",
    "simIDs = ['0031','0032','0033','0034'] \n",
    "numSimulations = 1000\n",
    "distancesArraysList = [None]*len(simIDs)\n",
    "tauStepsList = [2,4,6,8]\n",
    "for i, ID in enumerate(simIDs):\n",
    "    localDataDirectory = os.environ.get('DATA') + 'openSystems/classicSmoluchowski_' + ID\n",
    "    parameterDictionary = analysisTools.readParameters(localDataDirectory + \"/parameters_\" + ID)\n",
    "    file_path = localDataDirectory + '/classicSmol_nsims' + str(numSimulations) + '.xyz'\n",
    "    distancesArraysList[i] = read_numpy_arrays_from_file(file_path)\n",
    "    dtList[i] = parameterDictionary['dt']\n",
    "    if i==0: # Assumes all other parameters are the same for all simIDs\n",
    "        # Parameters for loading continuous trajectories from files (from original simulation)\n",
    "        numSimulations = parameterDictionary['numSimulations']\n",
    "        D = parameterDictionary['D'] \n",
    "        dt = parameterDictionary['dt']\n",
    "        stride = parameterDictionary['stride']\n",
    "        tfinal = parameterDictionary['tfinal']\n",
    "        kappa = parameterDictionary['kappa'] \n",
    "        sigma = parameterDictionary['sigma']\n",
    "        R = parameterDictionary['R']\n",
    "        cR = parameterDictionary['cR']\n",
    "        equilibrationSteps = parameterDictionary['equilibrationSteps']"
   ]
  },
  {
   "cell_type": "code",
   "execution_count": null,
   "id": "3e3814ad",
   "metadata": {},
   "outputs": [],
   "source": [
    "numSimulations = 4"
   ]
  },
  {
   "cell_type": "code",
   "execution_count": null,
   "id": "3a7defcf",
   "metadata": {},
   "outputs": [],
   "source": [
    "# Choose histogram Calculate values of middle points of histogram\n",
    "nbins = 40\n",
    "hist, bins = np.histogram(distancesArraysList[0][0], bins=nbins, range=(sigma,R))\n",
    "rvals = np.zeros(len(bins)-1)\n",
    "rvolumes = np.zeros(len(bins)-1)\n",
    "binsize = bins[1]-bins[0]\n",
    "for i in range(len(bins)-1):\n",
    "    rvals[i] = (bins[i+1] + bins[i])/2.0\n",
    "    rvolumes[i] = 4*np.pi*(bins[i+1]**3 - bins[i]**3)/3.0 # Approx alternative: 4*np.pi* rvals[i]**2*(bins[i+1]-bins[i])"
   ]
  },
  {
   "cell_type": "code",
   "execution_count": null,
   "id": "b9eace10",
   "metadata": {},
   "outputs": [],
   "source": [
    "# Calculate average concentration\n",
    "concentrationHistograms=[None]*len(simIDs)\n",
    "stdDevs = [None]*len(simIDs)\n",
    "for k, ID in enumerate(simIDs):\n",
    "    concentrationHistograms[k] = np.zeros(nbins)\n",
    "    stdDevs[k] = np.zeros(nbins)\n",
    "    concHist = [None]*numSimulations\n",
    "    for i in range(numSimulations):\n",
    "        hist, bins = np.histogram(distancesArraysList[k][i], bins=nbins, range=(sigma,R))\n",
    "        concHist[i] = hist/rvolumes\n",
    "    for j in range(len(concentrationHistograms[k])):\n",
    "        concentrationHistograms[k][j] = np.mean(np.array(concHist)[:,j])\n",
    "        stdDevs[k][j] = np.std(np.array(concHist)[:,j])"
   ]
  },
  {
   "cell_type": "code",
   "execution_count": null,
   "id": "cb3541f2",
   "metadata": {},
   "outputs": [],
   "source": [
    "# Extract and plot last values at partially absorbing boundary\n",
    "#analyticVal = analyticCK[-1]\n",
    "analyticVal = 0.5*(analyticCK[-1] + analyticCK[-2])\n",
    "errorListTau = [None]*len(simIDs)\n",
    "for k, ID in enumerate(simIDs):\n",
    "    #numericalVal = concentrationHistograms[k][-1]\n",
    "    numericalVal = 0.5*(concentrationHistograms[k][-1] + concentrationHistograms[k][-2])\n",
    "    errorListTau[k] = np.abs(numericalVal - analyticVal)\n",
    "\n",
    "fig, ax = plt.subplots(1,1, figsize=(5,4))    \n",
    "ax.plot(tauStepsList, errorListTau, 'k--', alpha = 0.3, lw=0.5)\n",
    "ax.plot(tauStepsList, errorListTau, 'kd',label=r\"$\\tau-$leap error\")\n",
    "ax.set_xlabel(r'number of substeps',fontsize=fsize)\n",
    "ax.set_ylabel(r'Error at $r=R$',fontsize=fsize)\n",
    "#ax.set_xscale('log')\n",
    "#ax.set_xlim([0.0005,0.1])\n",
    "#ax.set_yscale('log')\n",
    "ax.tick_params(axis='x', labelsize=fsize)\n",
    "ax.tick_params(axis='y', labelsize=fsize)\n",
    "ax.legend(framealpha=1.0,fontsize=fsize)\n",
    "#ax.grid(linestyle = '--',alpha=0.3)"
   ]
  },
  {
   "cell_type": "markdown",
   "id": "b2c4efd7",
   "metadata": {},
   "source": [
    "## Old plots"
   ]
  },
  {
   "cell_type": "code",
   "execution_count": null,
   "id": "3028e1d7",
   "metadata": {},
   "outputs": [],
   "source": [
    "fig, ax = plt.subplots()\n",
    "bw=0.1\n",
    "concDensity = stats.kde.gaussian_kde(distancesArrays[0],bw)\n",
    "\n",
    "distance = np.arange(sigma, R, 0.02)\n",
    "#ax.plot(distance, concDensity(distance), '-k') # label='benchmark')\n",
    "ax.plot(distance, concDensity(distance)/(4*np.pi*distance**2),'--k') # label='benchmark')\n",
    "\n",
    "ax.set_xlim((sigma, R))\n",
    "ax.set_ylim((0, None))\n",
    "ax.set_xlabel('radial distance')\n",
    "ax.set_ylabel('Concentration')\n",
    "\n",
    "#ax.legend(bbox_to_anchor=(0.6, 0., 0.5, 1.0), framealpha=1.0)\n",
    "\n",
    "plt.tight_layout()"
   ]
  },
  {
   "cell_type": "code",
   "execution_count": null,
   "id": "ee77a21d",
   "metadata": {},
   "outputs": [],
   "source": []
  }
 ],
 "metadata": {
  "kernelspec": {
   "display_name": "Python 3 (ipykernel)",
   "language": "python",
   "name": "python3"
  },
  "language_info": {
   "codemirror_mode": {
    "name": "ipython",
    "version": 3
   },
   "file_extension": ".py",
   "mimetype": "text/x-python",
   "name": "python",
   "nbconvert_exporter": "python",
   "pygments_lexer": "ipython3",
   "version": "3.10.8"
  }
 },
 "nbformat": 4,
 "nbformat_minor": 5
}
