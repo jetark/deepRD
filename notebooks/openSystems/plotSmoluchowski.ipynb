{
 "cells": [
  {
   "cell_type": "code",
   "execution_count": null,
   "id": "342a8684",
   "metadata": {},
   "outputs": [],
   "source": [
    "import os\n",
    "import numpy as np\n",
    "import matplotlib.pyplot as plt\n",
    "import deepRD"
   ]
  },
  {
   "cell_type": "code",
   "execution_count": null,
   "id": "39ec67c9",
   "metadata": {},
   "outputs": [],
   "source": [
    "def read_numpy_arrays_from_file(file_path):\n",
    "    arrays = []\n",
    "    with open(file_path, 'r') as file:\n",
    "        contents = file.read()\n",
    "\n",
    "    # Split the file content based on square brackets [ ]\n",
    "    array_strings = contents.split('[')[1:]\n",
    "\n",
    "    # Convert each array string back to a numpy array and store it\n",
    "    for array_string in array_strings:\n",
    "        array = np.fromstring(array_string.replace(']', ''), sep=' ')\n",
    "        arrays.append(array)\n",
    "\n",
    "    return arrays"
   ]
  },
  {
   "cell_type": "code",
   "execution_count": null,
   "id": "ef071261",
   "metadata": {},
   "outputs": [],
   "source": [
    "# Read files\n",
    "simID = '0000'\n",
    "nsims = 10000\n",
    "localDataDirectory = os.environ.get('DATA') + 'openSystems/classicSmoluchowski_' + simID\n",
    "file_path = localDataDirectory + '/classicSmol_nsims' + str(nsims) + '.xyz'\n",
    "concentrationArrays = read_numpy_arrays_from_file(file_path)"
   ]
  },
  {
   "cell_type": "code",
   "execution_count": null,
   "id": "4bfec13e",
   "metadata": {},
   "outputs": [],
   "source": []
  }
 ],
 "metadata": {
  "kernelspec": {
   "display_name": "Python 3 (ipykernel)",
   "language": "python",
   "name": "python3"
  },
  "language_info": {
   "codemirror_mode": {
    "name": "ipython",
    "version": 3
   },
   "file_extension": ".py",
   "mimetype": "text/x-python",
   "name": "python",
   "nbconvert_exporter": "python",
   "pygments_lexer": "ipython3",
   "version": "3.10.2"
  }
 },
 "nbformat": 4,
 "nbformat_minor": 5
}
