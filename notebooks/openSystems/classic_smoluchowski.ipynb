{
 "cells": [
  {
   "cell_type": "code",
   "execution_count": null,
   "id": "ec06626a",
   "metadata": {},
   "outputs": [],
   "source": [
    "import numpy as np\n",
    "from scipy import stats\n",
    "import matplotlib.pyplot as plt\n",
    "import deepRD\n",
    "from deepRD.diffusionIntegrators import smoluchowski"
   ]
  },
  {
   "cell_type": "code",
   "execution_count": null,
   "id": "91c524b5",
   "metadata": {},
   "outputs": [],
   "source": [
    "# Define particle list\n",
    "D=1.0 #diffusion coefficient\n",
    "#particle1 = deepRD.particle([2,0,0],D)\n",
    "particleList = deepRD.particleList([])"
   ]
  },
  {
   "cell_type": "code",
   "execution_count": null,
   "id": "d07cd281",
   "metadata": {},
   "outputs": [],
   "source": [
    "# Define integrator\n",
    "dt = 0.01\n",
    "stride = 1\n",
    "tfinal = 10\n",
    "kappa = 1000.0\n",
    "sigma = 0.0\n",
    "R = 1.0\n",
    "deltar = 0.05\n",
    "cR = 100.0\n",
    "diffIntegrator = smoluchowski(dt, stride, tfinal, D, kappa, sigma, R, deltar, cR)"
   ]
  },
  {
   "cell_type": "code",
   "execution_count": null,
   "id": "c66a203a",
   "metadata": {},
   "outputs": [],
   "source": [
    "t, positionsArrays = diffIntegrator.propagate(particleList)"
   ]
  },
  {
   "cell_type": "code",
   "execution_count": null,
   "id": "1b4184de",
   "metadata": {},
   "outputs": [],
   "source": [
    "particleList.countParticles()"
   ]
  },
  {
   "cell_type": "code",
   "execution_count": null,
   "id": "1707aadc",
   "metadata": {},
   "outputs": [],
   "source": [
    "# Transform position arrays to radial distances array\n",
    "distancesArray = []\n",
    "for X in positionsArrays:\n",
    "    if len(X)>0:\n",
    "        distancesArray.append(np.linalg.norm(X, axis=1))"
   ]
  },
  {
   "cell_type": "code",
   "execution_count": null,
   "id": "5cf17582",
   "metadata": {},
   "outputs": [],
   "source": [
    "timestepIndex = -1\n",
    "fig, ax = plt.subplots()\n",
    "bw=0.1\n",
    "concDensity = stats.kde.gaussian_kde(distancesArray[timestepIndex],bw)\n",
    "\n",
    "distance = np.arange(sigma, R, 0.02)\n",
    "#ax.plot(distance, concDensity(distance), '-k') # label='benchmark')\n",
    "ax.plot(distance, concDensity(distance)/(4*np.pi*distance**2),'--k') # label='benchmark')\n",
    "\n",
    "ax.set_xlim((sigma, R))\n",
    "ax.set_ylim((0, None))\n",
    "ax.set_xlabel('radial distance')\n",
    "ax.set_ylabel('Concentration')\n",
    "\n",
    "#ax.legend(bbox_to_anchor=(0.6, 0., 0.5, 1.0), framealpha=1.0)\n",
    "\n",
    "plt.tight_layout()"
   ]
  },
  {
   "cell_type": "code",
   "execution_count": null,
   "id": "b3be0c37",
   "metadata": {},
   "outputs": [],
   "source": []
  }
 ],
 "metadata": {
  "kernelspec": {
   "display_name": "Python 3 (ipykernel)",
   "language": "python",
   "name": "python3"
  },
  "language_info": {
   "codemirror_mode": {
    "name": "ipython",
    "version": 3
   },
   "file_extension": ".py",
   "mimetype": "text/x-python",
   "name": "python",
   "nbconvert_exporter": "python",
   "pygments_lexer": "ipython3",
   "version": "3.9.7"
  }
 },
 "nbformat": 4,
 "nbformat_minor": 5
}
