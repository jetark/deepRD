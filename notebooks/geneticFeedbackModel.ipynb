{
 "cells": [
  {
   "cell_type": "code",
   "execution_count": null,
   "id": "97d5e648",
   "metadata": {},
   "outputs": [],
   "source": [
    "import numpy as np\n",
    "import matplotlib.pyplot as plt\n",
    "from deepRD import integrateGillespie, integrateTauLeap \n",
    "from deepRD.plotFunctions import plotTrajectories, plotFPTs\n",
    "from deepRD.models import geneticFeedback, schlogl"
   ]
  },
  {
   "cell_type": "code",
   "execution_count": null,
   "id": "ed40fd13",
   "metadata": {},
   "outputs": [],
   "source": [
    "# Create a genetic feedback stochastic model, given initial conditions for:\n",
    "G = 1     # Gene\n",
    "Gstar = 0 # Gene*\n",
    "M = 80     # mRNA\n",
    "P = 0     # protein\n",
    "genFeedbackModel = geneticFeedback(G, Gstar, M, P)"
   ]
  },
  {
   "cell_type": "code",
   "execution_count": null,
   "id": "f3faef32",
   "metadata": {},
   "outputs": [],
   "source": [
    "# Set model parameters\n",
    "rhou = 2.5\n",
    "rhob = 0.0 #10**(-1)\n",
    "sigmau = 10**5\n",
    "sigmab = 10**3\n",
    "dm = 10.0\n",
    "dp = 1.0\n",
    "k = 10.0\n",
    "volume = 10.0\n",
    "genFeedbackModel.setModelParameters(rhou, rhob, sigmau, sigmab, dm, dp, k, volume)"
   ]
  },
  {
   "cell_type": "code",
   "execution_count": null,
   "id": "a0fcdb69",
   "metadata": {},
   "outputs": [],
   "source": [
    "t, X = integrateGillespie(genFeedbackModel, tfinal = 2.0)"
   ]
  },
  {
   "cell_type": "code",
   "execution_count": null,
   "id": "50672545",
   "metadata": {},
   "outputs": [],
   "source": [
    "plotTrajectories(t, X , names = genFeedbackModel.names, indexes = [2,3]);"
   ]
  },
  {
   "cell_type": "code",
   "execution_count": null,
   "id": "191dfd20",
   "metadata": {},
   "outputs": [],
   "source": [
    "#genFeedbackModel.dt = 0.0000001\n",
    "#integrateTauLeap(genFeedbackModel, tfinal = 1)"
   ]
  },
  {
   "cell_type": "code",
   "execution_count": null,
   "id": "69023204",
   "metadata": {},
   "outputs": [],
   "source": [
    "numSamples = 250\n",
    "FPTs = genFeedbackModel.oneCycleFPTs(numSamples, G, Gstar, M, P)"
   ]
  },
  {
   "cell_type": "code",
   "execution_count": null,
   "id": "f500c390",
   "metadata": {},
   "outputs": [],
   "source": [
    "plotFPTs(FPTs, bins=50 , name=\"FPT distribution for one mRNA cyle\");"
   ]
  },
  {
   "cell_type": "code",
   "execution_count": null,
   "id": "04cb134d",
   "metadata": {},
   "outputs": [],
   "source": []
  }
 ],
 "metadata": {
  "kernelspec": {
   "display_name": "Python 3",
   "language": "python",
   "name": "python3"
  },
  "language_info": {
   "codemirror_mode": {
    "name": "ipython",
    "version": 3
   },
   "file_extension": ".py",
   "mimetype": "text/x-python",
   "name": "python",
   "nbconvert_exporter": "python",
   "pygments_lexer": "ipython3",
   "version": "3.9.5"
  }
 },
 "nbformat": 4,
 "nbformat_minor": 5
}
