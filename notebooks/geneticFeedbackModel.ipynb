{
 "cells": [
  {
   "cell_type": "code",
   "execution_count": 1,
   "id": "97d5e648",
   "metadata": {},
   "outputs": [],
   "source": [
    "import numpy as np\n",
    "import matplotlib.pyplot as plt\n",
    "from deepRD.plotFunctions import plotTrajectories, plotFPTs\n",
    "from deepRD.reactionModels import geneticFeedback\n",
    "from deepRD.integrators import gillespie"
   ]
  },
  {
   "cell_type": "code",
   "execution_count": 2,
   "id": "ed40fd13",
   "metadata": {},
   "outputs": [],
   "source": [
    "# Create a genetic feedback stochastic model, given initial conditions for:\n",
    "G = 1     # Gene\n",
    "Gstar = 0 # Gene*\n",
    "M = 50     # mRNA\n",
    "P = 300     # protein\n",
    "genFeedbackModel = geneticFeedback(G, Gstar, M, P)"
   ]
  },
  {
   "cell_type": "code",
   "execution_count": 3,
   "id": "fc77d65e",
   "metadata": {},
   "outputs": [],
   "source": [
    "# Set model parameters\n",
    "# Value useful to define gene switch parameters\n",
    "volume = 1.0  # ()\n",
    "averagePconc = 1.0 #100.0/volume # Estimate value of reasonable expected value of P concentration\n",
    "# Transcription rates of two M molecules per hour from https://www.nature.com/articles/nature10098\n",
    "# however in some cases it has been observed to go up to 500 molecules per hour\n",
    "rhou = 2.0 # (1/hour)\n",
    "rhob = 2.0 # (1/hour)\n",
    "# mRNA(M) and protein(P) degratation rates. According to https://www.nature.com/articles/nature10098\n",
    "# half-life of M is 9 hours and of P is 46 hours\n",
    "dm = 1.0/(46.0) # (1/hour)\n",
    "dp = 1.0/(9.0)  # (1/hour)\n",
    "# Translation rate of 140 proteins per hour for each mRNA molecule (median value \n",
    "# from https://www.nature.com/articles/nature10098) Can reach 1300 or so and also lower values, 10 or so\n",
    "k = 14 #140.0  # (1/hour)\n",
    "# On and off gene switching from https://www.nature.com/articles/s41586-018-0836-1 \n",
    "# (not 100% sure they are correct), but seem in the right ballpark, see Fig 1a. I think \n",
    "# they are in units of 1/hour, but need to double check. \n",
    "sigmau = 2.71 # (1/hour)\n",
    "sigmab = 12.0/averagePconc # (volume/hour)\n",
    "genFeedbackModel.setModelParameters(rhou, rhob, sigmau, sigmab, dm, dp, k, volume)"
   ]
  },
  {
   "cell_type": "code",
   "execution_count": 4,
   "id": "64da898e",
   "metadata": {},
   "outputs": [],
   "source": [
    "# Create integrator\n",
    "integratorGillespie = gillespie(stride=1, tfinal=1000)"
   ]
  },
  {
   "cell_type": "code",
   "execution_count": null,
   "id": "a0fcdb69",
   "metadata": {},
   "outputs": [],
   "source": [
    "t, X = integratorGillespie.propagate(genFeedbackModel)"
   ]
  },
  {
   "cell_type": "code",
   "execution_count": null,
   "id": "18338097",
   "metadata": {},
   "outputs": [],
   "source": [
    "plotTrajectories(t, X , names = genFeedbackModel.names, indexes = [2,3]);"
   ]
  },
  {
   "cell_type": "code",
   "execution_count": null,
   "id": "ff79b065",
   "metadata": {},
   "outputs": [],
   "source": [
    "#genFeedbackModel.dt = 0.0000001\n",
    "#integrateTauLeap(genFeedbackModel, tfinal = 1)"
   ]
  },
  {
   "cell_type": "code",
   "execution_count": null,
   "id": "7e10fad0",
   "metadata": {},
   "outputs": [],
   "source": [
    "numSamples = 25\n",
    "FPTs = genFeedbackModel.oneCycleFPTs(numSamples, G, Gstar, M, P)"
   ]
  },
  {
   "cell_type": "code",
   "execution_count": null,
   "id": "0e53e33f",
   "metadata": {},
   "outputs": [],
   "source": [
    "plotFPTs(FPTs, bins=50 , name=\"FPT distribution for one mRNA cyle\");"
   ]
  },
  {
   "cell_type": "code",
   "execution_count": null,
   "id": "e9cdbf8c",
   "metadata": {},
   "outputs": [],
   "source": []
  }
 ],
 "metadata": {
  "kernelspec": {
   "display_name": "Python 3",
   "language": "python",
   "name": "python3"
  },
  "language_info": {
   "codemirror_mode": {
    "name": "ipython",
    "version": 3
   },
   "file_extension": ".py",
   "mimetype": "text/x-python",
   "name": "python",
   "nbconvert_exporter": "python",
   "pygments_lexer": "ipython3",
   "version": "3.9.5"
  }
 },
 "nbformat": 4,
 "nbformat_minor": 5
}
