{
 "cells": [
  {
   "cell_type": "code",
   "execution_count": null,
   "id": "97d5e648",
   "metadata": {},
   "outputs": [],
   "source": [
    "import numpy as np\n",
    "import matplotlib.pyplot as plt\n",
    "from deepRD import integrateGillespie, integrateTauLeap, reactionModel\n",
    "from deepRD.models import geneticFeedback, schlogl"
   ]
  },
  {
   "cell_type": "code",
   "execution_count": null,
   "id": "ed40fd13",
   "metadata": {},
   "outputs": [],
   "source": [
    "# Create a genetic feedback stochastic model, given initial conditions for:\n",
    "G = 4     # Gene\n",
    "Gstar = 5 # Gene*\n",
    "M = 2     # mRNA\n",
    "P = 3     # protein\n",
    "genFeedbackModel = geneticFeedback(G, Gstar, M, P)"
   ]
  },
  {
   "cell_type": "code",
   "execution_count": null,
   "id": "a0fcdb69",
   "metadata": {},
   "outputs": [],
   "source": [
    "integrateGillespie(genFeedbackModel, tfinal = 100)"
   ]
  },
  {
   "cell_type": "code",
   "execution_count": null,
   "id": "af1ee2d4",
   "metadata": {},
   "outputs": [],
   "source": [
    "genFeedbackModel.dt = 0.0000001\n",
    "integrateTauLeap(genFeedbackModel, tfinal = 1)"
   ]
  }
 ],
 "metadata": {
  "kernelspec": {
   "display_name": "Python 3",
   "language": "python",
   "name": "python3"
  },
  "language_info": {
   "codemirror_mode": {
    "name": "ipython",
    "version": 3
   },
   "file_extension": ".py",
   "mimetype": "text/x-python",
   "name": "python",
   "nbconvert_exporter": "python",
   "pygments_lexer": "ipython3",
   "version": "3.9.5"
  }
 },
 "nbformat": 4,
 "nbformat_minor": 5
}
