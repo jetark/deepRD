{
 "cells": [
  {
   "cell_type": "code",
   "execution_count": null,
   "id": "97d5e648",
   "metadata": {},
   "outputs": [],
   "source": [
    "import numpy as np\n",
    "import matplotlib.pyplot as plt\n",
    "from deepRD import integrateGillespie, integrateTauLeap \n",
    "from deepRD.plotFunctions import plotTrajectories\n",
    "from deepRD.models import geneticFeedback, schlogl"
   ]
  },
  {
   "cell_type": "code",
   "execution_count": null,
   "id": "ed40fd13",
   "metadata": {},
   "outputs": [],
   "source": [
    "# Create a genetic feedback stochastic model, given initial conditions for:\n",
    "G = 1     # Gene\n",
    "Gstar = 0 # Gene*\n",
    "M = 80     # mRNA\n",
    "P = 0     # protein\n",
    "genFeedbackModel = geneticFeedback(G, Gstar, M, P)"
   ]
  },
  {
   "cell_type": "code",
   "execution_count": null,
   "id": "a0fcdb69",
   "metadata": {},
   "outputs": [],
   "source": [
    "t, X = integrateGillespie(genFeedbackModel, tfinal = 0.5)"
   ]
  },
  {
   "cell_type": "code",
   "execution_count": null,
   "id": "0ebbb25e",
   "metadata": {},
   "outputs": [],
   "source": [
    "genFeedbackModel.dt = 0.0000001\n",
    "integrateTauLeap(genFeedbackModel, tfinal = 1)"
   ]
  },
  {
   "cell_type": "code",
   "execution_count": null,
   "id": "483b8da4",
   "metadata": {},
   "outputs": [],
   "source": [
    "plotTrajectories(t, X , names = genFeedbackModel.names) #dexes = [1,3])"
   ]
  },
  {
   "cell_type": "code",
   "execution_count": null,
   "id": "b84fc682",
   "metadata": {},
   "outputs": [],
   "source": []
  }
 ],
 "metadata": {
  "kernelspec": {
   "display_name": "Python 3",
   "language": "python",
   "name": "python3"
  },
  "language_info": {
   "codemirror_mode": {
    "name": "ipython",
    "version": 3
   },
   "file_extension": ".py",
   "mimetype": "text/x-python",
   "name": "python",
   "nbconvert_exporter": "python",
   "pygments_lexer": "ipython3",
   "version": "3.9.5"
  }
 },
 "nbformat": 4,
 "nbformat_minor": 5
}
