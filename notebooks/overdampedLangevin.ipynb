{
 "cells": [
  {
   "cell_type": "code",
   "execution_count": null,
   "id": "5834b78c",
   "metadata": {},
   "outputs": [],
   "source": [
    "import numpy as np\n",
    "import matplotlib.pyplot as plt\n",
    "import deepRD\n",
    "from deepRD.diffusionIntegrators import overdampedLangevin"
   ]
  },
  {
   "cell_type": "code",
   "execution_count": null,
   "id": "394049c6",
   "metadata": {},
   "outputs": [],
   "source": [
    "# Define particle list\n",
    "particle1 = deepRD.particle([0,0,0],1)\n",
    "particleList = deepRD.particleList([particle1])"
   ]
  },
  {
   "cell_type": "code",
   "execution_count": null,
   "id": "b3237af2",
   "metadata": {},
   "outputs": [],
   "source": [
    "# Define integrator\n",
    "dt = 0.01\n",
    "stride = 1\n",
    "tfinal = 10\n",
    "diffIntegrator = overdampedLangevin(dt,stride,tfinal)"
   ]
  },
  {
   "cell_type": "code",
   "execution_count": null,
   "id": "bde34b43",
   "metadata": {},
   "outputs": [],
   "source": [
    "t, X = diffIntegrator.propagate(particleList)"
   ]
  },
  {
   "cell_type": "code",
   "execution_count": null,
   "id": "18dbd02c",
   "metadata": {},
   "outputs": [],
   "source": [
    "X[:,particleIndex]"
   ]
  },
  {
   "cell_type": "code",
   "execution_count": null,
   "id": "871c27e2",
   "metadata": {},
   "outputs": [],
   "source": [
    "# Plot trajectory in x, y and z\n",
    "particleIndex = 0\n",
    "plt.plot(X[:,particleIndex], label = ['x','y','z']);\n",
    "plt.legend()"
   ]
  }
 ],
 "metadata": {
  "kernelspec": {
   "display_name": "Python 3",
   "language": "python",
   "name": "python3"
  },
  "language_info": {
   "codemirror_mode": {
    "name": "ipython",
    "version": 3
   },
   "file_extension": ".py",
   "mimetype": "text/x-python",
   "name": "python",
   "nbconvert_exporter": "python",
   "pygments_lexer": "ipython3",
   "version": "3.9.5"
  }
 },
 "nbformat": 4,
 "nbformat_minor": 5
}
