{
 "cells": [
  {
   "cell_type": "code",
   "execution_count": 1,
   "id": "085ba155",
   "metadata": {},
   "outputs": [],
   "source": [
    "import numpy as np\n",
    "import matplotlib.pyplot as plt\n",
    "import deepRD\n",
    "from deepRD.diffusionIntegrators import overdampedLangevin"
   ]
  },
  {
   "cell_type": "code",
   "execution_count": 2,
   "id": "74f8fe2c",
   "metadata": {},
   "outputs": [],
   "source": [
    "# Define particle list\n",
    "particle1 = deepRD.particle([0,0,0],1)\n",
    "particleList = deepRD.particleList([particle1])"
   ]
  },
  {
   "cell_type": "code",
   "execution_count": 3,
   "id": "ead9bfc7",
   "metadata": {},
   "outputs": [],
   "source": [
    "# Define integrator\n",
    "dt = 0.01\n",
    "stride = 1\n",
    "tfinal = 10\n",
    "boxsize = 1\n",
    "diffIntegrator = overdampedLangevin(dt, stride, tfinal, boxsize)"
   ]
  },
  {
   "cell_type": "code",
   "execution_count": 4,
   "id": "6db931c1",
   "metadata": {},
   "outputs": [
    {
     "name": "stdout",
     "output_type": "stream",
     "text": [
      "Percentage complete  0.0 %           \r",
      "Percentage complete  1.1 %           \r",
      "Percentage complete  2.1 %           \r",
      "Percentage complete  3.1 %           \r",
      "Percentage complete  4.1 %           \r",
      "Percentage complete  5.1 %           \r",
      "Percentage complete  6.1 %           \r",
      "Percentage complete  7.1 %           \r",
      "Percentage complete  8.1 %           \r",
      "Percentage complete  9.1 %           \r",
      "Percentage complete  10.1 %           \r",
      "Percentage complete  11.1 %           \r",
      "Percentage complete  12.1 %           \r",
      "Percentage complete  13.1 %           \r",
      "Percentage complete  14.1 %           \r",
      "Percentage complete  15.1 %           \r",
      "Percentage complete  16.1 %           \r",
      "Percentage complete  17.1 %           \r",
      "Percentage complete  18.1 %           \r",
      "Percentage complete  19.1 %           \r",
      "Percentage complete  20.2 %           \r",
      "Percentage complete  21.3 %           \r",
      "Percentage complete  22.4 %           \r",
      "Percentage complete  23.5 %           \r",
      "Percentage complete  24.6 %           \r",
      "Percentage complete  25.7 %           \r",
      "Percentage complete  26.8 %           \r",
      "Percentage complete  27.9 %           \r",
      "Percentage complete  29.0 %           \r",
      "Percentage complete  30.1 %           \r",
      "Percentage complete  31.2 %           \r",
      "Percentage complete  32.3 %           \r",
      "Percentage complete  33.4 %           \r",
      "Percentage complete  34.5 %           \r",
      "Percentage complete  35.6 %           \r",
      "Percentage complete  36.7 %           \r",
      "Percentage complete  37.8 %           \r",
      "Percentage complete  38.9 %           \r",
      "Percentage complete  40.0 %           \r",
      "Percentage complete  41.1 %           \r",
      "Percentage complete  42.2 %           \r",
      "Percentage complete  43.3 %           \r",
      "Percentage complete  44.4 %           \r",
      "Percentage complete  45.5 %           \r",
      "Percentage complete  46.6 %           \r",
      "Percentage complete  47.7 %           \r",
      "Percentage complete  48.8 %           \r",
      "Percentage complete  49.9 %           \r",
      "Percentage complete  51.0 %           \r",
      "Percentage complete  52.1 %           \r",
      "Percentage complete  53.2 %           \r",
      "Percentage complete  54.3 %           \r",
      "Percentage complete  55.4 %           \r",
      "Percentage complete  56.5 %           \r",
      "Percentage complete  57.6 %           \r",
      "Percentage complete  58.7 %           \r",
      "Percentage complete  59.8 %           \r",
      "Percentage complete  60.9 %           \r",
      "Percentage complete  62.0 %           \r",
      "Percentage complete  63.1 %           \r",
      "Percentage complete  64.2 %           \r",
      "Percentage complete  65.3 %           \r",
      "Percentage complete  66.4 %           \r",
      "Percentage complete  67.5 %           \r",
      "Percentage complete  68.6 %           \r",
      "Percentage complete  69.7 %           \r",
      "Percentage complete  70.8 %           \r",
      "Percentage complete  71.9 %           \r",
      "Percentage complete  73.0 %           \r",
      "Percentage complete  74.1 %           \r",
      "Percentage complete  75.2 %           \r",
      "Percentage complete  76.3 %           \r",
      "Percentage complete  77.4 %           \r",
      "Percentage complete  78.5 %           \r",
      "Percentage complete  79.6 %           \r",
      "Percentage complete  80.7 %           \r",
      "Percentage complete  81.8 %           \r",
      "Percentage complete  82.9 %           \r",
      "Percentage complete  84.0 %           \r",
      "Percentage complete  85.1 %           \r",
      "Percentage complete  86.2 %           \r",
      "Percentage complete  87.3 %           \r",
      "Percentage complete  88.4 %           \r",
      "Percentage complete  89.5 %           \r",
      "Percentage complete  90.6 %           \r",
      "Percentage complete  91.7 %           \r",
      "Percentage complete  92.8 %           \r",
      "Percentage complete  93.9 %           \r",
      "Percentage complete  95.0 %           \r",
      "Percentage complete  96.1 %           \r",
      "Percentage complete  97.2 %           \r",
      "Percentage complete  98.3 %           \r",
      "Percentage complete  99.4 %           \r",
      "Percentage complete 100%       \r"
     ]
    }
   ],
   "source": [
    "t, X = diffIntegrator.propagate(particleList)"
   ]
  },
  {
   "cell_type": "code",
   "execution_count": 5,
   "id": "32bb605c",
   "metadata": {},
   "outputs": [
    {
     "data": {
      "text/plain": [
       "array([[ 0.        ,  0.        ,  0.        ],\n",
       "       [-0.25205145,  0.1634152 , -0.08838791],\n",
       "       [-0.08896578,  0.03442185, -0.14701842],\n",
       "       ...,\n",
       "       [-0.33402528,  0.25414251,  0.14560978],\n",
       "       [-0.38324408,  0.08718749, -0.02043169],\n",
       "       [-0.43702648,  0.16204022, -0.09677191]])"
      ]
     },
     "execution_count": 5,
     "metadata": {},
     "output_type": "execute_result"
    }
   ],
   "source": [
    "particleIndex = 0\n",
    "X[:,particleIndex]"
   ]
  },
  {
   "cell_type": "code",
   "execution_count": 6,
   "id": "66a14314",
   "metadata": {},
   "outputs": [
    {
     "data": {
      "text/plain": [
       "<matplotlib.legend.Legend at 0x7f8bdf4094f0>"
      ]
     },
     "execution_count": 6,
     "metadata": {},
     "output_type": "execute_result"
    },
    {
     "data": {
      "image/png": "[encoded data removed]",
      "text/plain": [
       "<Figure size 432x288 with 1 Axes>"
      ]
     },
     "metadata": {
      "needs_background": "light"
     },
     "output_type": "display_data"
    }
   ],
   "source": [
    "# Plot trajectory in x, y and z\n",
    "particleIndex = 0\n",
    "#plt.plot(X[:,particleIndex], label = ['x','y','z']);\n",
    "plt.plot(X[:,particleIndex,0][0:100], label = 'x');\n",
    "plt.legend()"
   ]
  },
  {
   "cell_type": "code",
   "execution_count": null,
   "id": "6f4b3dc5",
   "metadata": {},
   "outputs": [],
   "source": []
  }
 ],
 "metadata": {
  "kernelspec": {
   "display_name": "Python 3",
   "language": "python",
   "name": "python3"
  },
  "language_info": {
   "codemirror_mode": {
    "name": "ipython",
    "version": 3
   },
   "file_extension": ".py",
   "mimetype": "text/x-python",
   "name": "python",
   "nbconvert_exporter": "python",
   "pygments_lexer": "ipython3",
   "version": "3.9.5"
  }
 },
 "nbformat": 4,
 "nbformat_minor": 5
}
