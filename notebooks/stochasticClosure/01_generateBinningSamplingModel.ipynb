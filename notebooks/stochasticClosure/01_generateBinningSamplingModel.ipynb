{
 "cells": [
  {
   "cell_type": "code",
   "execution_count": null,
   "id": "56b5550a",
   "metadata": {},
   "outputs": [],
   "source": [
    "import numpy as np\n",
    "import os\n",
    "import sys\n",
    "import pickle\n",
    "from itertools import product\n",
    "import matplotlib.pyplot as plt\n",
    "import deepRD.tools.trajectoryTools as trajectoryTools\n",
    "import deepRD.tools.analysisTools as analysisTools\n",
    "from deepRD.noiseSampler import binnedData_qi, binnedData_ri, binnedData_qiri, binnedData_qiririm"
   ]
  },
  {
   "cell_type": "code",
   "execution_count": null,
   "id": "199d33da",
   "metadata": {},
   "outputs": [],
   "source": [
    "parentDirectory = os.environ.get('MSMRD') + '/data/MoriZwanzig/benchmark/'\n",
    "fnamebase = parentDirectory + 'simMoriZwanzig_'\n",
    "localDataDirectory = './data/'"
   ]
  },
  {
   "cell_type": "code",
   "execution_count": null,
   "id": "2e71ab4c",
   "metadata": {},
   "outputs": [],
   "source": [
    "# Load parameters from parameters file\n",
    "parameterDictionary = analysisTools.readParameters(parentDirectory + \"parameters\")\n",
    "# Parameters for loading continuous trajectories from files (from original simulation)\n",
    "nfiles = parameterDictionary['numFiles']\n",
    "dt = parameterDictionary['dt'] \n",
    "stride = parameterDictionary['stride']\n",
    "totalTimeSteps = parameterDictionary['timesteps'] \n",
    "boxsize = parameterDictionary['boxsize']\n",
    "boundaryType = parameterDictionary['boundaryType']\n",
    "parameterDictionary"
   ]
  },
  {
   "cell_type": "code",
   "execution_count": null,
   "id": "73fc2de4",
   "metadata": {},
   "outputs": [],
   "source": [
    "# Load trajectory data from h5 files (only of distinguished particle)\n",
    "trajs = []\n",
    "print(\"Loading data ...\")\n",
    "for i in range(nfiles):\n",
    "    traj = trajectoryTools.loadTrajectory(fnamebase, i)\n",
    "    trajs.append(traj)\n",
    "    sys.stdout.write(\"File \" + str(i+1) + \" of \" + str(nfiles) + \" done.\" + \"\\r\")"
   ]
  },
  {
   "cell_type": "code",
   "execution_count": null,
   "id": "b6e008a7",
   "metadata": {},
   "outputs": [],
   "source": [
    "# Load binned data for ri+1|qi. Note one timestep from data equal parameters['dt'] * parameters['stride']\n",
    "numbins = 50\n",
    "lagTimesteps = 1  # Number of timesteps (from data) to look back in time \n",
    "boxsizeBinning = boxsize\n",
    "qiBinnedData = binnedData_qi(boxsizeBinning, numbins, lagTimesteps)\n",
    "qiBinnedData.loadData(trajs)\n",
    "qiBinnedData.parameterDictionary = parameterDictionary"
   ]
  },
  {
   "cell_type": "code",
   "execution_count": null,
   "id": "3b508711",
   "metadata": {},
   "outputs": [],
   "source": [
    "# Dump qi binned data into pickle file\n",
    "qiBinnedDataFilename = localDataDirectory + 'qiBinnedData.pickle'\n",
    "pickle.dump(qiBinnedData, open(qiBinnedDataFilename, \"wb\" ))"
   ]
  },
  {
   "cell_type": "code",
   "execution_count": null,
   "id": "c03ae192",
   "metadata": {},
   "outputs": [],
   "source": [
    "# Load binned data for ri+1|ri\n",
    "numbins = 50\n",
    "lagTimesteps = 1\n",
    "riBinnedData = binnedData_ri(numbins, lagTimesteps)\n",
    "riBinnedData.loadData(trajs)\n",
    "riBinnedData.parameterDictionary = parameterDictionary"
   ]
  },
  {
   "cell_type": "code",
   "execution_count": null,
   "id": "91c2a331",
   "metadata": {},
   "outputs": [],
   "source": [
    "# Dump ri binned data into pickle file\n",
    "riBinnedDataFilename = localDataDirectory + 'riBinnedData.pickle'\n",
    "pickle.dump(riBinnedData, open(riBinnedDataFilename, \"wb\" ))"
   ]
  },
  {
   "cell_type": "markdown",
   "id": "505657f2",
   "metadata": {},
   "source": [
    "## Tests"
   ]
  },
  {
   "cell_type": "code",
   "execution_count": null,
   "id": "5dc61a24",
   "metadata": {},
   "outputs": [],
   "source": [
    "qiBinnedData.nearestOccupiedNeighbour(np.array([24,24,24]))"
   ]
  },
  {
   "cell_type": "code",
   "execution_count": null,
   "id": "b2d69237",
   "metadata": {},
   "outputs": [],
   "source": [
    "len(qiBinnedData.data[tuple([24, 24, 24])])"
   ]
  },
  {
   "cell_type": "code",
   "execution_count": null,
   "id": "14dabf97",
   "metadata": {},
   "outputs": [],
   "source": [
    "testDist = []\n",
    "for i in range(10000):\n",
    "    testDist.append(qiBinnedData.sample(np.array([0.0,0.0,0.0])))"
   ]
  },
  {
   "cell_type": "code",
   "execution_count": null,
   "id": "9152605f",
   "metadata": {},
   "outputs": [],
   "source": [
    "labels = ['x', 'y', 'z']\n",
    "for i in range(3):\n",
    "    plt.plot(np.array(testDist)[:,i], 'o', alpha = 0.5, label = labels[i])\n",
    "plt.legend()"
   ]
  },
  {
   "cell_type": "code",
   "execution_count": null,
   "id": "5f8ef7c3",
   "metadata": {},
   "outputs": [],
   "source": [
    "position = np.array([0.0,0.0,0.0])\n",
    "binIndex = qiBinnedData.getBinIndex(position)\n",
    "occupiedBinIndex = qiBinnedData.nearestOccupiedNeighbour(binIndex)\n",
    "availableData = qiBinnedData.data[occupiedBinIndex]\n",
    "print(binIndex, occupiedBinIndex)"
   ]
  },
  {
   "cell_type": "code",
   "execution_count": null,
   "id": "2cbabf32",
   "metadata": {},
   "outputs": [],
   "source": [
    "plt.plot(np.array(availableData)[:,0], 'o')"
   ]
  },
  {
   "cell_type": "code",
   "execution_count": null,
   "id": "85be210d",
   "metadata": {},
   "outputs": [],
   "source": [
    "for xx in np.arange(-5,5, 0.5):\n",
    "    position = np.array([xx,0.0,0.0])\n",
    "    binIndex = qiBinnedData.getBinIndex(position)\n",
    "    occupiedBinIndex = qiBinnedData.nearestOccupiedNeighbour(binIndex)\n",
    "    availableData = qiBinnedData.data[occupiedBinIndex]\n",
    "    print(xx, np.mean(np.array(availableData)[:,0]))"
   ]
  },
  {
   "cell_type": "code",
   "execution_count": null,
   "id": "5bec1a4b",
   "metadata": {},
   "outputs": [],
   "source": [
    "localDataDirectory = '../../data/stochasticClosure/binnedData/'\n",
    "qiBinnedDataFilename = localDataDirectory + 'qiBinnedData.pickle'\n",
    "#binnedDataFilename = localDataDirectory + 'riBinnedData.pickle'\n",
    "qiBinnedData = pickle.load(open(qiBinnedDataFilename, \"rb\" ))"
   ]
  },
  {
   "cell_type": "code",
   "execution_count": null,
   "id": "269b3bdf",
   "metadata": {},
   "outputs": [],
   "source": [
    "qiriBinnedDataFilename = localDataDirectory + 'qiriBinnedData.pickle'\n",
    "#binnedDataFilename = localDataDirectory + 'riBinnedData.pickle'\n",
    "qiriBinnedData = pickle.load(open(qiriBinnedDataFilename, \"rb\" ))"
   ]
  },
  {
   "cell_type": "code",
   "execution_count": null,
   "id": "b78c527d",
   "metadata": {},
   "outputs": [],
   "source": [
    "qiririmBinnedDataFilename = localDataDirectory + 'qiririmBinnedData.pickle'\n",
    "#binnedDataFilename = localDataDirectory + 'riBinnedData.pickle'\n",
    "qiririmBinnedData = pickle.load(open(qiririmBinnedDataFilename, \"rb\" ))"
   ]
  },
  {
   "cell_type": "code",
   "execution_count": null,
   "id": "636cff86",
   "metadata": {},
   "outputs": [],
   "source": [
    "qiBinnedData.nearestOccupiedNeighbour(np.array([24,24,24]))"
   ]
  },
  {
   "cell_type": "code",
   "execution_count": null,
   "id": "ec1550f6",
   "metadata": {},
   "outputs": [],
   "source": [
    "qiriBinnedData.getBinIndex([3,2,1,0.5,0.5,0.5])"
   ]
  },
  {
   "cell_type": "code",
   "execution_count": null,
   "id": "85f97192",
   "metadata": {},
   "outputs": [],
   "source": [
    "for array in qiririmBinnedData.occupiedTuplesArray:\n",
    "    if array[3]>5:\n",
    "        print(array)"
   ]
  },
  {
   "cell_type": "code",
   "execution_count": null,
   "id": "638ac4ef",
   "metadata": {},
   "outputs": [],
   "source": [
    "trajs[0][5]"
   ]
  },
  {
   "cell_type": "code",
   "execution_count": null,
   "id": "6744d432",
   "metadata": {},
   "outputs": [],
   "source": [
    "posIndex = 1  # Position of x coordinate in trajectory files\n",
    "rIndex = 5"
   ]
  },
  {
   "cell_type": "code",
   "execution_count": null,
   "id": "dbd9bae7",
   "metadata": {},
   "outputs": [],
   "source": [
    "qi = trajs[8][1000][posIndex:posIndex + 3]\n",
    "ri = trajs[8][1000][rIndex:rIndex + 3]"
   ]
  },
  {
   "cell_type": "code",
   "execution_count": null,
   "id": "29672d62",
   "metadata": {},
   "outputs": [],
   "source": [
    "qi"
   ]
  },
  {
   "cell_type": "code",
   "execution_count": null,
   "id": "4ab6bb6d",
   "metadata": {},
   "outputs": [],
   "source": [
    "ri"
   ]
  },
  {
   "cell_type": "code",
   "execution_count": null,
   "id": "a9b54090",
   "metadata": {},
   "outputs": [],
   "source": [
    "qiri = np.concatenate([qi,ri])\n"
   ]
  },
  {
   "cell_type": "code",
   "execution_count": null,
   "id": "f52fe5ac",
   "metadata": {},
   "outputs": [],
   "source": [
    "qiri"
   ]
  },
  {
   "cell_type": "code",
   "execution_count": null,
   "id": "2511e148",
   "metadata": {},
   "outputs": [],
   "source": [
    "qiriBinnedData.getBinIndex(qiri)"
   ]
  },
  {
   "cell_type": "code",
   "execution_count": null,
   "id": "799510f5",
   "metadata": {},
   "outputs": [],
   "source": []
  }
 ],
 "metadata": {
  "kernelspec": {
   "display_name": "Python 3 (ipykernel)",
   "language": "python",
   "name": "python3"
  },
  "language_info": {
   "codemirror_mode": {
    "name": "ipython",
    "version": 3
   },
   "file_extension": ".py",
   "mimetype": "text/x-python",
   "name": "python",
   "nbconvert_exporter": "python",
   "pygments_lexer": "ipython3",
   "version": "3.9.7"
  }
 },
 "nbformat": 4,
 "nbformat_minor": 5
}
