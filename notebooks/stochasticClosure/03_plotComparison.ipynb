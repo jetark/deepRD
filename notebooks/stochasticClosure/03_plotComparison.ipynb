{
 "cells": [
  {
   "cell_type": "code",
   "execution_count": null,
   "id": "07fbcf0d",
   "metadata": {},
   "outputs": [],
   "source": [
    "import os\n",
    "import numpy as np\n",
    "import matplotlib\n",
    "import matplotlib.pyplot as plt\n",
    "from scipy.interpolate import interp1d\n",
    "from deepRD.noiseSampler import binnedData\n",
    "import deepRD.tools.trajectoryTools as trajectoryTools\n",
    "import deepRD.tools.analysisTools as analysisTools\n",
    "matplotlib.rcParams.update({'font.size': 15})"
   ]
  },
  {
   "cell_type": "code",
   "execution_count": null,
   "id": "38d4424e",
   "metadata": {},
   "outputs": [],
   "source": [
    "# Benchmark data folder\n",
    "parentDirectory = os.environ.get('MSMRD') + '/data/MoriZwanzig/benchmarkComparison/'\n",
    "benchmarkfnamebase = parentDirectory + 'simMoriZwanzig_'\n",
    "# Reduced models data folders\n",
    "localDataDirectory = '../../data/stochasticClosure/benchmarkReduced'\n",
    "numModels = 8\n",
    "redModelfnamebase = [localDataDirectory]*numModels\n",
    "redModelfnamebase[0] += '_ri/simMoriZwanzigReduced_'\n",
    "redModelfnamebase[1] += '_ririm/simMoriZwanzigReduced_'\n",
    "redModelfnamebase[2] += '_qi/simMoriZwanzigReduced_'\n",
    "redModelfnamebase[3] += '_qiri/simMoriZwanzigReduced_'\n",
    "redModelfnamebase[4] += '_qiririm/simMoriZwanzigReduced_'\n",
    "redModelfnamebase[5] += '_pi/simMoriZwanzigReduced_'\n",
    "redModelfnamebase[6] += '_piri/simMoriZwanzigReduced_'\n",
    "redModelfnamebase[7] += '_piririm/simMoriZwanzigReduced_'"
   ]
  },
  {
   "cell_type": "code",
   "execution_count": null,
   "id": "3c5a3888",
   "metadata": {},
   "outputs": [],
   "source": [
    "# Read relevant parameters\n",
    "parameterDictionary = analysisTools.readParameters(parentDirectory + \"parameters\")\n",
    "numSimulations = parameterDictionary['numFiles']\n",
    "dt = parameterDictionary['dt'] \n",
    "integratorStride = parameterDictionary['stride']\n",
    "totalTimeSteps = parameterDictionary['timesteps'] \n",
    "boxsize = parameterDictionary['boxsize']\n",
    "boundaryType = parameterDictionary['boundaryType']\n",
    "parameterDictionary"
   ]
  },
  {
   "cell_type": "markdown",
   "id": "13854f80",
   "metadata": {},
   "source": [
    "## Load benchmark and reduced model trajectory data"
   ]
  },
  {
   "cell_type": "code",
   "execution_count": null,
   "id": "f4e4b1ba",
   "metadata": {},
   "outputs": [],
   "source": [
    "# Load benchmark trajectory data from h5 files (only of distinguished particle)\n",
    "trajs_ref = []\n",
    "print(\"Loading benchmark data ...\")\n",
    "for i in range(numSimulations):\n",
    "    traj = trajectoryTools.loadTrajectory(benchmarkfnamebase, i)\n",
    "    trajs_ref.append(traj)    \n",
    "    print(\"File \", i+1, \" of \", numSimulations, \" done.\", end=\"\\r\")\n",
    "print(\"Benchmark data loaded.\")"
   ]
  },
  {
   "cell_type": "code",
   "execution_count": null,
   "id": "6664dfc9",
   "metadata": {},
   "outputs": [],
   "source": [
    "# Load reduced model trajectory data from h5 files (only of distinguished particle)\n",
    "allTrajs = [None]*numModels\n",
    "print(\"Loading reduced models data ...\")\n",
    "for i in range(numModels):\n",
    "    try:\n",
    "        iTraj = []\n",
    "        for j in range(numSimulations):\n",
    "            traj = trajectoryTools.loadTrajectory(redModelfnamebase[i], i)\n",
    "            iTraj.append(traj)\n",
    "            print(\"File \", i+1, \" of \", numSimulations, \" done.\", end=\"\\r\")\n",
    "        allTrajs[i] = iTraj\n",
    "    except:\n",
    "        continue\n",
    "print(\"Reduced models data loaded.\")"
   ]
  },
  {
   "cell_type": "markdown",
   "id": "c2dd0058",
   "metadata": {},
   "source": [
    "## Distribution plots comparisons"
   ]
  },
  {
   "cell_type": "code",
   "execution_count": null,
   "id": "1a5ed3be",
   "metadata": {},
   "outputs": [],
   "source": [
    "# Choose which reduced model to compare (just uncomment one)\n",
    "conditionedOn = 'ri' #Possibilities 'qi', 'ri', 'qiri', 'qiririm'\n",
    "if conditionedOn == 'ri':\n",
    "    trajs = allTrajs[0] \n",
    "elif conditionedOn == 'ririm':\n",
    "    trajs = allTrajs[1] \n",
    "elif conditionedOn == 'qi':\n",
    "    trajs = allTrajs[2] \n",
    "elif conditionedOn == 'qiri':\n",
    "    trajs = allTrajs[3] \n",
    "elif conditionedOn == 'qiririm':\n",
    "    trajs = allTrajs[4] \n",
    "elif conditionedOn == 'pi':\n",
    "    trajs = allTrajs[5] \n",
    "elif conditionedOn == 'piri':\n",
    "    trajs = allTrajs[6] \n",
    "elif conditionedOn == 'piririm':\n",
    "    trajs = allTrajs[7] "
   ]
  },
  {
   "cell_type": "code",
   "execution_count": null,
   "id": "5c2055f6",
   "metadata": {},
   "outputs": [],
   "source": [
    "# Extract variables to plot from tajectories (x components)\n",
    "varIndex = 1 # 1=x, 2=y, 3=z\n",
    "position = trajectoryTools.extractVariableFromTrajectory(trajs, variableIndex = varIndex)\n",
    "velocity = trajectoryTools.extractVariableFromTrajectory(trajs, variableIndex = varIndex + 3)\n",
    "position_ref = trajectoryTools.extractVariableFromTrajectory(trajs_ref, variableIndex = varIndex)\n",
    "velocity_ref = trajectoryTools.extractVariableFromTrajectory(trajs_ref, variableIndex = varIndex + 3)"
   ]
  },
  {
   "cell_type": "code",
   "execution_count": null,
   "id": "2c239d1f",
   "metadata": {},
   "outputs": [],
   "source": [
    "# Plot distirbution comparison for position\n",
    "plotLines = True\n",
    "numbins = 50\n",
    "pos, binEdges = np.histogram(position, bins=numbins, density = True)\n",
    "binsPos = 0.5 * (binEdges[1:] + binEdges[:-1])\n",
    "posRef, binEdges = np.histogram(position_ref, bins=numbins, density = True)\n",
    "binsPosRef = 0.5 * (binEdges[1:] + binEdges[:-1])\n",
    "fig, ax = plt.subplots()\n",
    "if plotLines:\n",
    "    ax.plot(binsPosRef, posRef, '-', c='black', label = 'benchmark');\n",
    "    ax.plot(binsPos, pos, 'x', c='black', label = 'reduced');\n",
    "else:\n",
    "    ax.hist(position_ref, bins=numbins, density= True, alpha=0.5, label='benchmark');\n",
    "    ax.hist(position, bins=numbins, density= True, alpha=0.5, label='reduced');\n",
    "ax.set_xlabel(\"position\");\n",
    "ax.set_ylabel(\"distribution\");\n",
    "ax.legend();\n",
    "#plt.savefig('position_distribution_comparison_'+ conditionedOn +'.pdf')"
   ]
  },
  {
   "cell_type": "code",
   "execution_count": null,
   "id": "c505d2ec",
   "metadata": {},
   "outputs": [],
   "source": [
    "# Plot distirbution comparison for velocity\n",
    "plotLines = True\n",
    "numbins = 50\n",
    "vel, binEdges = np.histogram(velocity, bins=numbins, density = True)\n",
    "binsVel = 0.5 * (binEdges[1:] + binEdges[:-1])\n",
    "velRef, binEdges = np.histogram(velocity_ref, bins=numbins, density = True)\n",
    "binsVelRef = 0.5 * (binEdges[1:] + binEdges[:-1])\n",
    "fig, ax = plt.subplots()\n",
    "if plotLines:\n",
    "    ax.plot(binsVelRef, velRef, '-', c='black', label = 'benchmark');\n",
    "    ax.plot(binsVel, vel, 'x', c='black', label = 'reduced');\n",
    "else:\n",
    "    ax.hist(velocity_ref, bins=numbins, density= True, alpha=0.5, label='benchmark');\n",
    "    ax.hist(velocity, bins=numbins, density= True, alpha=0.5, label='reduced');\n",
    "ax.set_xlabel(\"velocity\");\n",
    "ax.set_ylabel(\"distribution\");\n",
    "ax.legend()\n",
    "#plt.savefig('velocity_distribution_comparison_'+ conditionedOn +'.pdf')"
   ]
  },
  {
   "cell_type": "markdown",
   "id": "07a9c771",
   "metadata": {},
   "source": [
    "## Autocorrelation function comparison"
   ]
  },
  {
   "cell_type": "code",
   "execution_count": null,
   "id": "af95567d",
   "metadata": {},
   "outputs": [],
   "source": [
    "variables = ['position', 'velocity']\n",
    "lagtimesteps = 40\n",
    "strides = [30,1]\n",
    "ACF = [None]*2\n",
    "ACF_ref = [None]*2\n",
    "for i, var in enumerate(variables):\n",
    "    mean = trajectoryTools.calculateMean(trajs, var)\n",
    "    mean_ref = trajectoryTools.calculateMean(trajs_ref, var)\n",
    "    variance = trajectoryTools.calculateVariance(trajs, var, mean)\n",
    "    variance_ref = trajectoryTools.calculateVariance(trajs_ref, var, mean_ref)\n",
    "    ACF[i] = trajectoryTools.calculateAutoCorrelationFunction(trajs, lagtimesteps, strides[i], var)\n",
    "    ACF_ref[i] = trajectoryTools.calculateAutoCorrelationFunction(trajs_ref, lagtimesteps, strides[i], var)"
   ]
  },
  {
   "cell_type": "code",
   "execution_count": null,
   "id": "a45857fa",
   "metadata": {},
   "outputs": [],
   "source": [
    "index = 0\n",
    "time = dt*integratorStride*strides[index]*np.linspace(1,lagtimesteps,lagtimesteps)\n",
    "plt.plot(time, ACF[index], 'xk', label = 'reduced')\n",
    "plt.plot(time, ACF_ref[index], '-k', label = 'benchmark')\n",
    "plt.xlabel('time(ns)')\n",
    "plt.ylabel(variables[index] + ' autocorrelation')\n",
    "plt.legend()\n",
    "#plt.xlim([0,1500])\n",
    "#plt.savefig(variables[index]+ '_autocorrelation_'+ conditionedOn +'.pdf')"
   ]
  },
  {
   "cell_type": "code",
   "execution_count": null,
   "id": "b9a9daf9",
   "metadata": {},
   "outputs": [],
   "source": []
  }
 ],
 "metadata": {
  "kernelspec": {
   "display_name": "Python 3 (ipykernel)",
   "language": "python",
   "name": "python3"
  },
  "language_info": {
   "codemirror_mode": {
    "name": "ipython",
    "version": 3
   },
   "file_extension": ".py",
   "mimetype": "text/x-python",
   "name": "python",
   "nbconvert_exporter": "python",
   "pygments_lexer": "ipython3",
   "version": "3.9.7"
  }
 },
 "nbformat": 4,
 "nbformat_minor": 5
}
