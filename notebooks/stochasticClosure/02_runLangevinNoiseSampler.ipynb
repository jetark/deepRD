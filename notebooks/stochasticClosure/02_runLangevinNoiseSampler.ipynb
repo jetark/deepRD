{
 "cells": [
  {
   "cell_type": "code",
   "execution_count": null,
   "id": "f0f401d4",
   "metadata": {},
   "outputs": [],
   "source": [
    "import numpy as np\n",
    "import matplotlib\n",
    "import matplotlib.pyplot as plt\n",
    "import pickle\n",
    "import deepRD\n",
    "from deepRD.diffusionIntegrators import langevinNoiseSampler, langevin\n",
    "from deepRD.potentials import harmonic\n",
    "from deepRD.noiseSampler import noiseSampler\n",
    "from deepRD.noiseSampler import binnedData_qi, binnedData_ri\n",
    "import deepRD.tools.trajectoryTools as trajectoryTools\n",
    "matplotlib.rcParams.update({'font.size': 15})"
   ]
  },
  {
   "cell_type": "code",
   "execution_count": null,
   "id": "f0430108",
   "metadata": {},
   "outputs": [],
   "source": [
    "localDataDirectory = './data/'"
   ]
  },
  {
   "cell_type": "code",
   "execution_count": null,
   "id": "3e774db1",
   "metadata": {},
   "outputs": [],
   "source": [
    "# Load binning sampling models\n",
    "binnedDataFilename = localDataDirectory + 'qiBinnedData.pickle'\n",
    "#binnedDataFilename = localDataDirectory + 'riBinnedData.pickle'\n",
    "binnedData = pickle.load(open(binnedDataFilename, \"rb\" ))\n",
    "parameters = binnedData.parameterDictionary\n",
    "print(parameters)"
   ]
  },
  {
   "cell_type": "code",
   "execution_count": null,
   "id": "646917ee",
   "metadata": {},
   "outputs": [],
   "source": [
    "# Define particle list\n",
    "D = parameters['D']\n",
    "position = [0,0,0]\n",
    "velocity = [0,0,0]\n",
    "mass =  parameters['mass']\n",
    "particle1 = deepRD.particle(position, D, velocity, mass)\n",
    "particleList = deepRD.particleList([particle1])"
   ]
  },
  {
   "cell_type": "code",
   "execution_count": null,
   "id": "f771a379",
   "metadata": {},
   "outputs": [],
   "source": [
    "# Define noise sampler\n",
    "#nSampler = noiseSampler()\n",
    "nSampler = noiseSampler(binnedData)"
   ]
  },
  {
   "cell_type": "code",
   "execution_count": null,
   "id": "7c1d1bd8",
   "metadata": {},
   "outputs": [],
   "source": [
    "# Define external potential\n",
    "kconstant = 0.3\n",
    "harmonicPotential = harmonic(kconstant)"
   ]
  },
  {
   "cell_type": "code",
   "execution_count": null,
   "id": "9131da5a",
   "metadata": {},
   "outputs": [],
   "source": [
    "# Define integrator\n",
    "#dt = binnedData.lagTimesteps * parameters['dt'] * parameters['stride'] #wrong\n",
    "dt = parameters['dt']\n",
    "integratorStride = 5\n",
    "tfinal = 10000 #100000\n",
    "KbT = parameters['KbT']\n",
    "boxsize = parameters['boxsize']\n",
    "#integType = \"symplecticEuler\"\n",
    "integType = \"BAOAB\"\n",
    "diffIntegrator = langevinNoiseSampler(dt, integratorStride, tfinal, nSampler, KbT, \n",
    "                                      boxsize, integratorType = integType)\n",
    "diffIntegrator.setExternalPotential(harmonicPotential)\n",
    "#diffIntegrator = langevin(dt, integratorStride, tfinal, KbT, boxsize, integratorType = integType)"
   ]
  },
  {
   "cell_type": "code",
   "execution_count": null,
   "id": "8b58ebfa",
   "metadata": {},
   "outputs": [],
   "source": [
    "t, X, V= diffIntegrator.propagate(particleList)"
   ]
  },
  {
   "cell_type": "code",
   "execution_count": null,
   "id": "30690340",
   "metadata": {},
   "outputs": [],
   "source": [
    "# Plot trajectory in x, y and z\n",
    "particleIndex = 0\n",
    "#plt.plot(X[:,particleIndex], label = ['x','y','z']);\n",
    "xpos = X[:,particleIndex,0]\n",
    "ypos = X[:,particleIndex,1]\n",
    "zpos = X[:,particleIndex,2]\n",
    "xvel = V[:,particleIndex,0]\n",
    "yvel = V[:,particleIndex,1]\n",
    "zvel = V[:,particleIndex,2]\n",
    "plt.plot(t,xpos, '-', label = 'x');\n",
    "plt.plot(t,ypos, '-', label = 'y');\n",
    "plt.plot(t,zpos, '-', label = 'z');\n",
    "plt.legend()"
   ]
  },
  {
   "cell_type": "code",
   "execution_count": null,
   "id": "ccf5f27b",
   "metadata": {},
   "outputs": [],
   "source": [
    "plt.plot(t,xvel, '-', label = 'x');\n",
    "plt.plot(t,yvel, '-', label = 'y');\n",
    "plt.plot(t,zvel, '-', label = 'z');\n",
    "plt.legend()"
   ]
  },
  {
   "cell_type": "code",
   "execution_count": null,
   "id": "442e3f03",
   "metadata": {},
   "outputs": [],
   "source": [
    "numbins=25\n",
    "#averagepos = (np.array(xpos)+np.array(ypos)+np.array(zpos))/3.0\n",
    "#plt.hist(averagepos, bins = numbins, density= True, #alpha =0.3)\n",
    "plt.hist(xpos, bins = numbins, density= True, alpha=0.5, label='x')\n",
    "plt.hist(ypos, bins = numbins, density= True, alpha=0.5, label='y')\n",
    "plt.hist(zpos, bins = numbins, density= True, alpha=0.5, label='z')\n",
    "plt.legend()\n",
    "#plt.xlim([-0.15,0.15])\n",
    "plt.show()"
   ]
  },
  {
   "cell_type": "code",
   "execution_count": null,
   "id": "ed5bde3c",
   "metadata": {},
   "outputs": [],
   "source": [
    "numbins=25\n",
    "#averagepos = (np.array(xpos)+np.array(ypos)+np.array(zpos))/3.0\n",
    "#plt.hist(averagepos, bins = numbins, density= True, #alpha =0.3)\n",
    "plt.hist(xvel, bins = numbins, density= True, alpha=0.5, label='x')\n",
    "plt.hist(yvel, bins = numbins, density= True, alpha=0.5, label='y')\n",
    "plt.hist(zvel, bins = numbins, density= True, alpha=0.5, label='z')\n",
    "plt.legend()\n",
    "#plt.xlim([-0.15,0.15])\n",
    "plt.show()"
   ]
  },
  {
   "cell_type": "markdown",
   "id": "6fd8ad7e",
   "metadata": {},
   "source": [
    "## Load one benchmark trajectory"
   ]
  },
  {
   "cell_type": "code",
   "execution_count": null,
   "id": "f3cad16e",
   "metadata": {},
   "outputs": [],
   "source": [
    "import deepRD.tools.trajectoryTools as trajectoryTools\n",
    "import os"
   ]
  },
  {
   "cell_type": "code",
   "execution_count": null,
   "id": "cd09633d",
   "metadata": {},
   "outputs": [],
   "source": [
    "parentDirectory = os.environ.get('MSMRD') + '/data/MoriZwanzig/benchmark_onetrajectory/'\n",
    "fnamebase = parentDirectory + 'simMoriZwanzig_'"
   ]
  },
  {
   "cell_type": "code",
   "execution_count": null,
   "id": "a68730fb",
   "metadata": {},
   "outputs": [],
   "source": [
    "traj = trajectoryTools.loadTrajectory(fnamebase, 0)"
   ]
  },
  {
   "cell_type": "code",
   "execution_count": null,
   "id": "cbf0d454",
   "metadata": {},
   "outputs": [],
   "source": [
    "# Plot distributions\n",
    "xpos_ref = []\n",
    "ypos_ref = []\n",
    "zpos_ref = []\n",
    "xvel_ref = []\n",
    "yvel_ref = []\n",
    "zvel_ref = []\n",
    "numbins = 100\n",
    "for i in range(len(traj)):\n",
    "    xpos_ref.append(traj[i][1])\n",
    "    ypos_ref.append(traj[i][2])\n",
    "    zpos_ref.append(traj[i][3])\n",
    "    xvel_ref.append(traj[i][4])\n",
    "    yvel_ref.append(traj[i][5])\n",
    "    zvel_ref.append(traj[i][6])\n",
    "averagepos = (np.array(xpos_ref)+np.array(ypos_ref)+np.array(zpos_ref))/3.0\n",
    "#plt.hist(averagepos, bins = numbins, density= True, alpha =0.3)\n",
    "plt.hist(np.array(xpos_ref), bins = numbins, density= True, alpha=0.5, label='x')\n",
    "plt.hist(np.array(ypos_ref), bins = numbins, density= True, alpha=0.5, label='y')\n",
    "plt.hist(np.array(zpos_ref), bins = numbins, density= True, alpha=0.5, label='z')\n",
    "plt.legend()\n",
    "plt.show()"
   ]
  },
  {
   "cell_type": "code",
   "execution_count": null,
   "id": "2b990353",
   "metadata": {},
   "outputs": [],
   "source": [
    "plt.hist(np.array(xvel_ref), bins = numbins, density= True, alpha=0.5, label='x')\n",
    "plt.hist(np.array(yvel_ref), bins = numbins, density= True, alpha=0.5, label='y')\n",
    "plt.hist(np.array(zvel_ref), bins = numbins, density= True, alpha=0.5, label='z')\n",
    "plt.legend()\n",
    "plt.show()"
   ]
  },
  {
   "cell_type": "markdown",
   "id": "8cfc7626",
   "metadata": {},
   "source": [
    "## Comparison"
   ]
  },
  {
   "cell_type": "code",
   "execution_count": null,
   "id": "10a11ada",
   "metadata": {},
   "outputs": [],
   "source": [
    "numbins=50\n",
    "plt.hist(np.array(xvel), bins = numbins, density= True, alpha=0.5, label='coarse-grain')\n",
    "plt.hist(np.array(xvel_ref), bins = numbins, density= True, alpha=0.5, label='reference')\n",
    "plt.legend(fontsize = 14)\n",
    "plt.xlabel(\"velocity\")\n",
    "plt.ylabel(\"velocity distribution\")\n",
    "#plt.show()\n",
    "plt.savefig(\"velocity_test.pdf\", bbox_inches='tight')"
   ]
  },
  {
   "cell_type": "code",
   "execution_count": null,
   "id": "6f8ffc3f",
   "metadata": {},
   "outputs": [],
   "source": [
    "numbins=50\n",
    "plt.hist(np.array(xpos), bins = numbins, density= True, alpha=0.5, label='x coarse-grain')\n",
    "plt.hist(np.array(xpos_ref), bins = numbins, density= True, alpha=0.5, label='x reference')\n",
    "plt.legend()\n",
    "plt.show()"
   ]
  },
  {
   "cell_type": "code",
   "execution_count": null,
   "id": "661d806e",
   "metadata": {},
   "outputs": [],
   "source": []
  },
  {
   "cell_type": "code",
   "execution_count": null,
   "id": "1c713bc4",
   "metadata": {},
   "outputs": [],
   "source": []
  }
 ],
 "metadata": {
  "kernelspec": {
   "display_name": "Python 3 (ipykernel)",
   "language": "python",
   "name": "python3"
  },
  "language_info": {
   "codemirror_mode": {
    "name": "ipython",
    "version": 3
   },
   "file_extension": ".py",
   "mimetype": "text/x-python",
   "name": "python",
   "nbconvert_exporter": "python",
   "pygments_lexer": "ipython3",
   "version": "3.9.7"
  }
 },
 "nbformat": 4,
 "nbformat_minor": 5
}
