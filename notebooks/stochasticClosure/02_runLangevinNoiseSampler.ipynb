{
 "cells": [
  {
   "cell_type": "code",
   "execution_count": null,
   "id": "f0f401d4",
   "metadata": {},
   "outputs": [],
   "source": [
    "import numpy as np\n",
    "import matplotlib.pyplot as plt\n",
    "import pickle\n",
    "import deepRD\n",
    "from deepRD.diffusionIntegrators import langevinNoiseSampler\n",
    "from deepRD.noiseSampler import noiseSampler\n",
    "from deepRD.noiseSampler import binnedData_qi, binnedData_ri"
   ]
  },
  {
   "cell_type": "code",
   "execution_count": null,
   "id": "f0430108",
   "metadata": {},
   "outputs": [],
   "source": [
    "localDataDirectory = './data/'"
   ]
  },
  {
   "cell_type": "code",
   "execution_count": null,
   "id": "3e774db1",
   "metadata": {},
   "outputs": [],
   "source": [
    "# Load binning sampling models\n",
    "binnedDataFilename = localDataDirectory + 'qiBinnedData.pickle'\n",
    "#binnedDataFilename = localDataDirectory + 'riBinnedData.pickle'\n",
    "binnedData = pickle.load(open(binnedDataFilename, \"rb\" ))\n",
    "parameters = binnedData.parameterDictionary\n",
    "print(parameters)"
   ]
  },
  {
   "cell_type": "code",
   "execution_count": null,
   "id": "646917ee",
   "metadata": {},
   "outputs": [],
   "source": [
    "# Define particle list\n",
    "D = parameters['D']\n",
    "position = [0,0,0]\n",
    "velocity = [0,0,0]\n",
    "mass =  parameters['mass']\n",
    "particle1 = deepRD.particle(position, D, velocity, mass)\n",
    "particleList = deepRD.particleList([particle1])"
   ]
  },
  {
   "cell_type": "code",
   "execution_count": null,
   "id": "f771a379",
   "metadata": {},
   "outputs": [],
   "source": [
    "# Define noise sampler\n",
    "nSampler = noiseSampler(binnedData)"
   ]
  },
  {
   "cell_type": "code",
   "execution_count": null,
   "id": "9131da5a",
   "metadata": {},
   "outputs": [],
   "source": [
    "# Define integrator\n",
    "dt = parameters['dt']  \n",
    "stride = 1\n",
    "tfinal = 1000\n",
    "KbT = parameters['KbT']\n",
    "boxsize = 1 #parameters['boxsize']\n",
    "diffIntegrator = langevinNoiseSampler(dt, stride, tfinal, nSampler, KbT, boxsize)"
   ]
  },
  {
   "cell_type": "code",
   "execution_count": null,
   "id": "8b58ebfa",
   "metadata": {},
   "outputs": [],
   "source": [
    "t, X, V= diffIntegrator.propagate(particleList)"
   ]
  },
  {
   "cell_type": "code",
   "execution_count": null,
   "id": "30690340",
   "metadata": {},
   "outputs": [],
   "source": [
    "# Plot trajectory in x, y and z\n",
    "particleIndex = 0\n",
    "#plt.plot(X[:,particleIndex], label = ['x','y','z']);\n",
    "xpos = X[:,particleIndex,0]\n",
    "ypos = X[:,particleIndex,1]\n",
    "zpos = X[:,particleIndex,2]\n",
    "plt.plot(t,zpos, 'o', label = 'x');\n",
    "plt.legend()"
   ]
  },
  {
   "cell_type": "code",
   "execution_count": null,
   "id": "442e3f03",
   "metadata": {},
   "outputs": [],
   "source": [
    "numbins=25\n",
    "#averagepos = (np.array(xpos)+np.array(ypos)+np.array(zpos))/3.0\n",
    "#plt.hist(averagepos, bins = numbins, density= True, alpha =0.3)\n",
    "plt.hist(xpos, bins = numbins, density= True, alpha=0.5, label='x')\n",
    "plt.hist(ypos, bins = numbins, density= True, alpha=0.5, label='y')\n",
    "plt.hist(zpos, bins = numbins, density= True, alpha=0.5, label='z')\n",
    "plt.legend()\n",
    "plt.xlim([-0.15,0.15])\n",
    "plt.show()"
   ]
  },
  {
   "cell_type": "code",
   "execution_count": null,
   "id": "4419a990",
   "metadata": {},
   "outputs": [],
   "source": [
    "plt.hist(xpos, bins = numbins, density= True, alpha=0.5, label='x')\n"
   ]
  },
  {
   "cell_type": "code",
   "execution_count": null,
   "id": "fee35ba7",
   "metadata": {},
   "outputs": [],
   "source": []
  }
 ],
 "metadata": {
  "kernelspec": {
   "display_name": "Python 3 (ipykernel)",
   "language": "python",
   "name": "python3"
  },
  "language_info": {
   "codemirror_mode": {
    "name": "ipython",
    "version": 3
   },
   "file_extension": ".py",
   "mimetype": "text/x-python",
   "name": "python",
   "nbconvert_exporter": "python",
   "pygments_lexer": "ipython3",
   "version": "3.9.7"
  }
 },
 "nbformat": 4,
 "nbformat_minor": 5
}
