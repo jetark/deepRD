{
 "cells": [
  {
   "cell_type": "code",
   "execution_count": null,
   "id": "c5da8f5d",
   "metadata": {},
   "outputs": [],
   "source": [
    "import numpy as np\n",
    "import matplotlib.pyplot as plt\n",
    "import deepRD\n",
    "from deepRD.diffusionIntegrators import smoluchowski"
   ]
  },
  {
   "cell_type": "code",
   "execution_count": null,
   "id": "e5339e79",
   "metadata": {},
   "outputs": [],
   "source": [
    "# Define particle list\n",
    "D=1.0 #diffusion coefficient\n",
    "particle1 = deepRD.particle([2,0,0],D)\n",
    "particleList = deepRD.particleList([particle1])"
   ]
  },
  {
   "cell_type": "code",
   "execution_count": null,
   "id": "ae39847e",
   "metadata": {},
   "outputs": [],
   "source": [
    "# Define integrator\n",
    "dt = 0.01\n",
    "stride = 1\n",
    "tfinal = 100\n",
    "kappa = 0.0\n",
    "sigma = 1.0\n",
    "R = 10.0\n",
    "deltar = 0.05\n",
    "cR = 1.0\n",
    "diffIntegrator = smoluchowski(dt, stride, tfinal, D, kappa, sigma, R, deltar, cR)"
   ]
  },
  {
   "cell_type": "code",
   "execution_count": null,
   "id": "9ada33fd",
   "metadata": {},
   "outputs": [],
   "source": [
    "t, X = diffIntegrator.propagate(particleList)"
   ]
  },
  {
   "cell_type": "code",
   "execution_count": null,
   "id": "15b995a0",
   "metadata": {},
   "outputs": [],
   "source": [
    "particleList.countParticles()"
   ]
  },
  {
   "cell_type": "code",
   "execution_count": null,
   "id": "4a1a19c1",
   "metadata": {},
   "outputs": [],
   "source": [
    "X"
   ]
  },
  {
   "cell_type": "code",
   "execution_count": null,
   "id": "f228f181",
   "metadata": {},
   "outputs": [],
   "source": [
    "# Plot trajectory in x, y and z\n",
    "particleIndex = 0\n",
    "#plt.plot(X[:,particleIndex], label = ['x','y','z']);\n",
    "plt.plot(X[:,particleIndex,0][0:100], label = 'x');\n",
    "plt.legend()"
   ]
  },
  {
   "cell_type": "code",
   "execution_count": null,
   "id": "215abbca",
   "metadata": {},
   "outputs": [],
   "source": []
  }
 ],
 "metadata": {
  "kernelspec": {
   "display_name": "Python 3 (ipykernel)",
   "language": "python",
   "name": "python3"
  },
  "language_info": {
   "codemirror_mode": {
    "name": "ipython",
    "version": 3
   },
   "file_extension": ".py",
   "mimetype": "text/x-python",
   "name": "python",
   "nbconvert_exporter": "python",
   "pygments_lexer": "ipython3",
   "version": "3.9.7"
  }
 },
 "nbformat": 4,
 "nbformat_minor": 5
}
