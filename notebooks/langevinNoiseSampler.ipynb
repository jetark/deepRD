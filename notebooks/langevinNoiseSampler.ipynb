{
 "cells": [
  {
   "cell_type": "code",
   "execution_count": null,
   "id": "085ba155",
   "metadata": {},
   "outputs": [],
   "source": [
    "import numpy as np\n",
    "import matplotlib.pyplot as plt\n",
    "import deepRD\n",
    "from deepRD.diffusionIntegrators import langevinNoiseSampler\n",
    "from deepRD.noiseSampler import noiseSampler as noiseSamplerDefault"
   ]
  },
  {
   "cell_type": "code",
   "execution_count": null,
   "id": "74f8fe2c",
   "metadata": {},
   "outputs": [],
   "source": [
    "# Define particle list\n",
    "D = 1\n",
    "position = [0,0,0]\n",
    "velocity = [0,0,0]\n",
    "mass = 1\n",
    "particle1 = deepRD.particle(position, D, velocity, mass)\n",
    "particleList = deepRD.particleList([particle1])"
   ]
  },
  {
   "cell_type": "code",
   "execution_count": null,
   "id": "5f483483",
   "metadata": {},
   "outputs": [],
   "source": [
    "# Define noise sampler\n",
    "noiseSampler = noiseSamplerDefault()"
   ]
  },
  {
   "cell_type": "code",
   "execution_count": null,
   "id": "ead9bfc7",
   "metadata": {},
   "outputs": [],
   "source": [
    "# Define integrator\n",
    "dt = 0.01\n",
    "stride = 1\n",
    "tfinal = 10\n",
    "kBT = 1\n",
    "boxsize = 1\n",
    "diffIntegrator = langevinNoiseSampler(dt, stride, tfinal, noiseSampler, kBT, boxsize)"
   ]
  },
  {
   "cell_type": "code",
   "execution_count": null,
   "id": "6db931c1",
   "metadata": {},
   "outputs": [],
   "source": [
    "t, X, V= diffIntegrator.propagate(particleList)"
   ]
  },
  {
   "cell_type": "code",
   "execution_count": null,
   "id": "32bb605c",
   "metadata": {},
   "outputs": [],
   "source": [
    "particleIndex = 0\n",
    "X[:,particleIndex]"
   ]
  },
  {
   "cell_type": "code",
   "execution_count": null,
   "id": "66a14314",
   "metadata": {},
   "outputs": [],
   "source": [
    "# Plot trajectory in x, y and z\n",
    "particleIndex = 0\n",
    "#plt.plot(X[:,particleIndex], label = ['x','y','z']);\n",
    "plt.plot(X[:,particleIndex,0][0:100], label = 'x');\n",
    "plt.legend()"
   ]
  },
  {
   "cell_type": "code",
   "execution_count": null,
   "id": "6f4b3dc5",
   "metadata": {},
   "outputs": [],
   "source": []
  }
 ],
 "metadata": {
  "kernelspec": {
   "display_name": "Python 3",
   "language": "python",
   "name": "python3"
  },
  "language_info": {
   "codemirror_mode": {
    "name": "ipython",
    "version": 3
   },
   "file_extension": ".py",
   "mimetype": "text/x-python",
   "name": "python",
   "nbconvert_exporter": "python",
   "pygments_lexer": "ipython3",
   "version": "3.9.5"
  }
 },
 "nbformat": 4,
 "nbformat_minor": 5
}
